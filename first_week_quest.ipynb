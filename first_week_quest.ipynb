{
  "nbformat": 4,
  "nbformat_minor": 0,
  "metadata": {
    "colab": {
      "provenance": []
    },
    "kernelspec": {
      "name": "python3",
      "display_name": "Python 3"
    },
    "language_info": {
      "name": "python"
    }
  },
  "cells": [
    {
      "cell_type": "code",
      "execution_count": null,
      "metadata": {
        "colab": {
          "base_uri": "https://localhost:8080/"
        },
        "id": "iNS416wFPtBL",
        "outputId": "2146115f-78df-4f7f-ebd6-6d36b75bc63c"
      },
      "outputs": [
        {
          "output_type": "execute_result",
          "data": {
            "text/plain": [
              "['muz', 'elma', 0.013, 'false']"
            ]
          },
          "metadata": {},
          "execution_count": 18
        }
      ],
      "source": [
        "fruits= [\"muz\", \"elma\", 0.013, 'false']\n",
        "fruits"
      ]
    },
    {
      "cell_type": "code",
      "source": [
        "Listofitems= [\"muz\", \"elma\", 0.013, 'false', \"erik\", \"erik\"]\n",
        "Listofitems[-1]"
      ],
      "metadata": {
        "colab": {
          "base_uri": "https://localhost:8080/",
          "height": 35
        },
        "id": "cboIdvtcTaBF",
        "outputId": "4e2fa13f-9bb8-4216-da46-c6ab7fed40eb"
      },
      "execution_count": null,
      "outputs": [
        {
          "output_type": "execute_result",
          "data": {
            "text/plain": [
              "'erik'"
            ],
            "application/vnd.google.colaboratory.intrinsic+json": {
              "type": "string"
            }
          },
          "metadata": {},
          "execution_count": 29
        }
      ]
    },
    {
      "cell_type": "code",
      "source": [
        "List_of_numbers=[1, 4, 6, 2, 3, 5]\n",
        "List_of_numbers.sort(reverse=False)\n",
        "List_of_numbers"
      ],
      "metadata": {
        "colab": {
          "base_uri": "https://localhost:8080/"
        },
        "id": "6jfzEwokU-W4",
        "outputId": "601d300e-c589-4f30-d724-9cdcbd247964"
      },
      "execution_count": null,
      "outputs": [
        {
          "output_type": "execute_result",
          "data": {
            "text/plain": [
              "[1, 2, 3, 4, 5, 6]"
            ]
          },
          "metadata": {},
          "execution_count": 65
        }
      ]
    },
    {
      "cell_type": "code",
      "source": [
        "Listofitems= [\"muz\", \"elma\", 0.013, 'false', \"erik\", \"erik\"]\n",
        "Listofitems.index(\"erik\") + Listofitems.index(\"erik\")"
      ],
      "metadata": {
        "colab": {
          "base_uri": "https://localhost:8080/"
        },
        "id": "n0n6rzE-gKnQ",
        "outputId": "81428424-48fc-4f0a-a685-e065091fea5e"
      },
      "execution_count": null,
      "outputs": [
        {
          "output_type": "execute_result",
          "data": {
            "text/plain": [
              "8"
            ]
          },
          "metadata": {},
          "execution_count": 83
        }
      ]
    },
    {
      "cell_type": "code",
      "source": [
        "List_of_numbers=[\"ali\", 4, 6, 2, 3, 5]\n",
        "List_of_numbers[1]= \"carrot\"\n",
        "print(List_of_numbers)\n"
      ],
      "metadata": {
        "colab": {
          "base_uri": "https://localhost:8080/"
        },
        "id": "5YvnHdLahvMR",
        "outputId": "1094cb82-a8cb-4e6c-c484-b586fe88a31a"
      },
      "execution_count": null,
      "outputs": [
        {
          "output_type": "stream",
          "name": "stdout",
          "text": [
            "['ali', 'carrot', 6, 2, 3, 5]\n"
          ]
        }
      ]
    },
    {
      "cell_type": "code",
      "source": [
        "set1 = {1,2,3,4,5}\n",
        "set2 = {4,5,6,7,8}\n",
        "print(set2.difference(set1))\n"
      ],
      "metadata": {
        "id": "b7ZasBG_7_Rf",
        "colab": {
          "base_uri": "https://localhost:8080/"
        },
        "outputId": "9d42d5d2-80f1-4b96-83be-6afa5afa1346"
      },
      "execution_count": 169,
      "outputs": [
        {
          "output_type": "stream",
          "name": "stdout",
          "text": [
            "{8, 6, 7}\n"
          ]
        }
      ]
    },
    {
      "cell_type": "code",
      "source": [
        "Raven= \"\"\"Deep 'into' that darkness peering,\"\"\"\n",
        "Raven[5:10]"
      ],
      "metadata": {
        "colab": {
          "base_uri": "https://localhost:8080/",
          "height": 35
        },
        "id": "7MHMEK3WxBw4",
        "outputId": "f5f3dfc3-5db3-4ed6-cc9d-9c4f62346087"
      },
      "execution_count": 32,
      "outputs": [
        {
          "output_type": "execute_result",
          "data": {
            "text/plain": [
              "\"'into\""
            ],
            "application/vnd.google.colaboratory.intrinsic+json": {
              "type": "string"
            }
          },
          "metadata": {},
          "execution_count": 32
        }
      ]
    },
    {
      "cell_type": "code",
      "source": [
        "Capital= 1000\n",
        "Daily_Growth= 1.12\n",
        "Period= 7\n",
        "Final_Growth= Capital * Daily_Growth ** Period\n",
        "print(\"\"\"When we buy bitcoin with {} USD at the beginning of the week,\n",
        "we would earn {} at the end of the week, with an average gain of {}.\"\"\".format(Capital, Final_Growth, Daily_Growth))\n",
        "\n",
        "\n"
      ],
      "metadata": {
        "colab": {
          "base_uri": "https://localhost:8080/"
        },
        "id": "rGaoTV8o2ehn",
        "outputId": "2fa31db4-6e14-44df-9289-034b63f56167"
      },
      "execution_count": 75,
      "outputs": [
        {
          "output_type": "stream",
          "name": "stdout",
          "text": [
            "When we buy bitcoin with 1000 USD at the beginning of the week,\n",
            "we would earn 2210.6814074060812 at the end of the week, with an average gain of 1.12.\n"
          ]
        }
      ]
    },
    {
      "cell_type": "code",
      "source": [
        "Conclusion = \"When we buy bitcoin with 1000 USD at the beginning of the week, we would earn 1210.68 USD at the end of the week, with an average gain of 12\\%.\"\n",
        "Conclusion = \"\"\"When we buy bitcoin with {} USD at the beginning of the week,\n",
        "we would earn {} at the end of the week, with an average gain of {}.\"\"\".format(Capital, Final_Growth, Daily_Growth)\n",
        "print(conclusion)\n"
      ],
      "metadata": {
        "id": "qbQPE6kyC7tn"
      },
      "execution_count": null,
      "outputs": []
    },
    {
      "cell_type": "code",
      "source": [
        "\"When we buy bitcoin with 1000 USD at the beginning of the week, we would earn 1210.68 USD at the end of the week, with an average gain of 12\\%.\""
      ],
      "metadata": {
        "id": "V9NgjMwm-yc2"
      },
      "execution_count": null,
      "outputs": []
    },
    {
      "cell_type": "code",
      "source": [
        "first_side= 6\n",
        "first_side= 6\n",
        "second_side= 8\n",
        "hypotenuse= (first_side**2 + second_side**2)**0.5\n",
        "print(\"The length of the hypotenuse is {}\".format(hypotenuse))"
      ],
      "metadata": {
        "colab": {
          "base_uri": "https://localhost:8080/"
        },
        "id": "uG55PpvVDmzf",
        "outputId": "ad4d5935-e2a8-47f2-81b5-9847d0d494f6"
      },
      "execution_count": 92,
      "outputs": [
        {
          "output_type": "stream",
          "name": "stdout",
          "text": [
            "The length of the hypotenuse is 10.0\n"
          ]
        }
      ]
    }
  ]
}