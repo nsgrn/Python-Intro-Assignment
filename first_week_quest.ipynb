{
  "nbformat": 4,
  "nbformat_minor": 0,
  "metadata": {
    "colab": {
      "provenance": [],
      "authorship_tag": "ABX9TyN/79mwDM0R248mmonEiNKC",
      "include_colab_link": true
    },
    "kernelspec": {
      "name": "python3",
      "display_name": "Python 3"
    },
    "language_info": {
      "name": "python"
    }
  },
  "cells": [
    {
      "cell_type": "markdown",
      "metadata": {
        "id": "view-in-github",
        "colab_type": "text"
      },
      "source": [
        "<a href=\"https://colab.research.google.com/github/nsgrn/Python-Intro-Assignment/blob/main/first_week_quest.ipynb\" target=\"_parent\"><img src=\"https://colab.research.google.com/assets/colab-badge.svg\" alt=\"Open In Colab\"/></a>"
      ]
    },
    {
      "cell_type": "code",
      "execution_count": null,
      "metadata": {
        "colab": {
          "base_uri": "https://localhost:8080/"
        },
        "id": "iNS416wFPtBL",
        "outputId": "2146115f-78df-4f7f-ebd6-6d36b75bc63c"
      },
      "outputs": [
        {
          "output_type": "execute_result",
          "data": {
            "text/plain": [
              "['muz', 'elma', 0.013, 'false']"
            ]
          },
          "metadata": {},
          "execution_count": 18
        }
      ],
      "source": [
        "fruits= [\"muz\", \"elma\", 0.013, 'False']\n",
        "fruits"
      ]
    },
    {
      "cell_type": "code",
      "source": [
        "Listofitems= [\"muz\", \"elma\", 0.013, 'false', \"\"\"erik\", \"+\" \"erik\"\"\"]\n",
        "Listofitems[-1]"
      ],
      "metadata": {
        "colab": {
          "base_uri": "https://localhost:8080/",
          "height": 35
        },
        "id": "cboIdvtcTaBF",
        "outputId": "4a2b7355-ed63-4fa8-fa88-8bfbfa6003a3"
      },
      "execution_count": null,
      "outputs": [
        {
          "output_type": "execute_result",
          "data": {
            "text/plain": [
              "'erik\", \"+\" \"erik'"
            ],
            "application/vnd.google.colaboratory.intrinsic+json": {
              "type": "string"
            }
          },
          "metadata": {},
          "execution_count": 103
        }
      ]
    },
    {
      "cell_type": "code",
      "source": [
        "List_of_numbers=[1, 4, 6, 2, 3, 5]\n",
        "List_of_numbers.sort(reverse=False)\n",
        "List_of_numbers"
      ],
      "metadata": {
        "colab": {
          "base_uri": "https://localhost:8080/"
        },
        "id": "6jfzEwokU-W4",
        "outputId": "a331ad44-803d-4e9d-80a7-8dcac41bffdb"
      },
      "execution_count": null,
      "outputs": [
        {
          "output_type": "execute_result",
          "data": {
            "text/plain": [
              "[1, 2, 3, 4, 5, 6]"
            ]
          },
          "metadata": {},
          "execution_count": 106
        }
      ]
    },
    {
      "cell_type": "code",
      "source": [
        "Listofitems= [\"muz\", \"elma\", 0.013, 'false', \"erik\", 1, \"erik\"]\n",
        "Listofitems.index(\"erik\", 5)"
      ],
      "metadata": {
        "colab": {
          "base_uri": "https://localhost:8080/"
        },
        "id": "n0n6rzE-gKnQ",
        "outputId": "85b0e34b-67c5-4d1e-a482-8f29f54b1c95"
      },
      "execution_count": null,
      "outputs": [
        {
          "output_type": "execute_result",
          "data": {
            "text/plain": [
              "6"
            ]
          },
          "metadata": {},
          "execution_count": 110
        }
      ]
    },
    {
      "cell_type": "code",
      "source": [
        "List_of_numbers=[\"ali\", 4, 6, 2, 3, 5]\n",
        "List_of_numbers[1]= \"carrot\"\n",
        "print(List_of_numbers)\n"
      ],
      "metadata": {
        "colab": {
          "base_uri": "https://localhost:8080/"
        },
        "id": "5YvnHdLahvMR",
        "outputId": "1094cb82-a8cb-4e6c-c484-b586fe88a31a"
      },
      "execution_count": null,
      "outputs": [
        {
          "output_type": "stream",
          "name": "stdout",
          "text": [
            "['ali', 'carrot', 6, 2, 3, 5]\n"
          ]
        }
      ]
    },
    {
      "cell_type": "code",
      "source": [
        "set1 = {1,2,3,4,5}\n",
        "set2 = {4,5,6,7,8}\n",
        "print(set2.difference(set1))\n"
      ],
      "metadata": {
        "id": "b7ZasBG_7_Rf",
        "colab": {
          "base_uri": "https://localhost:8080/"
        },
        "outputId": "9d42d5d2-80f1-4b96-83be-6afa5afa1346"
      },
      "execution_count": null,
      "outputs": [
        {
          "output_type": "stream",
          "name": "stdout",
          "text": [
            "{8, 6, 7}\n"
          ]
        }
      ]
    },
    {
      "cell_type": "code",
      "source": [
        "Raven= \"\"\"Deep 'into' that darkness peering,\"\"\"\n",
        "Raven[5:11]"
      ],
      "metadata": {
        "colab": {
          "base_uri": "https://localhost:8080/",
          "height": 35
        },
        "id": "7MHMEK3WxBw4",
        "outputId": "40b6e018-21f4-4011-aa44-8b6d8327dcd4"
      },
      "execution_count": null,
      "outputs": [
        {
          "output_type": "execute_result",
          "data": {
            "text/plain": [
              "\"'into'\""
            ],
            "application/vnd.google.colaboratory.intrinsic+json": {
              "type": "string"
            }
          },
          "metadata": {},
          "execution_count": 111
        }
      ]
    },
    {
      "cell_type": "code",
      "source": [
        "Capital= 1000\n",
        "Daily_Growth= 1.12\n",
        "Period= 7\n",
        "Final_Growth= Capital * Daily_Growth ** Period\n",
        "print(\"\"\"When we buy bitcoin with {} USD at the beginning of the week,\n",
        "we would earn {} at the end of the week, with an average gain of {}.\"\"\".format(Capital, Final_Growth, Daily_Growth))\n",
        "\n",
        "\n"
      ],
      "metadata": {
        "colab": {
          "base_uri": "https://localhost:8080/"
        },
        "id": "rGaoTV8o2ehn",
        "outputId": "2fa31db4-6e14-44df-9289-034b63f56167"
      },
      "execution_count": null,
      "outputs": [
        {
          "output_type": "stream",
          "name": "stdout",
          "text": [
            "When we buy bitcoin with 1000 USD at the beginning of the week,\n",
            "we would earn 2210.6814074060812 at the end of the week, with an average gain of 1.12.\n"
          ]
        }
      ]
    },
    {
      "cell_type": "code",
      "source": [
        "the_dict= {'apple': 3, 'Orange': 8}\n",
        "the_dict[\"Orange\"] = 9\n",
        "print(the_dict)\n",
        "\n",
        "\n"
      ],
      "metadata": {
        "colab": {
          "base_uri": "https://localhost:8080/"
        },
        "id": "96gvxUDATC69",
        "outputId": "c3bce73c-8843-40de-c7f5-ffad40e7a27d"
      },
      "execution_count": null,
      "outputs": [
        {
          "output_type": "stream",
          "name": "stdout",
          "text": [
            "{'apple': 3, 'Orange': 9}\n"
          ]
        }
      ]
    },
    {
      "cell_type": "code",
      "source": [
        "Conclusion = \"When we buy bitcoin with 1000 USD at the beginning of the week, we would earn 1210.68 USD at the end of the week, with an average gain of 12\\%.\"\n",
        "Conclusion = \"\"\"When we buy bitcoin with {} USD at the beginning of the week,\n",
        "we would earn {} at the end of the week, with an average gain of {}.\"\"\".format(Capital, Final_Growth, Daily_Growth)\n",
        "print(conclusion)\n"
      ],
      "metadata": {
        "id": "qbQPE6kyC7tn"
      },
      "execution_count": null,
      "outputs": []
    },
    {
      "cell_type": "code",
      "source": [
        "\"When we buy bitcoin with 1000 USD at the beginning of the week, we would earn 1210.68 USD at the end of the week, with an average gain of 12\\%.\""
      ],
      "metadata": {
        "id": "V9NgjMwm-yc2"
      },
      "execution_count": null,
      "outputs": []
    },
    {
      "cell_type": "code",
      "source": [
        "first_side= 6\n",
        "first_side= 6\n",
        "second_side= 8\n",
        "hypotenuse= (first_side**2 + second_side**2)**0.5\n",
        "print(\"The length of the hypotenuse is {}\".format(hypotenuse))"
      ],
      "metadata": {
        "colab": {
          "base_uri": "https://localhost:8080/"
        },
        "id": "uG55PpvVDmzf",
        "outputId": "ad4d5935-e2a8-47f2-81b5-9847d0d494f6"
      },
      "execution_count": null,
      "outputs": [
        {
          "output_type": "stream",
          "name": "stdout",
          "text": [
            "The length of the hypotenuse is 10.0\n"
          ]
        }
      ]
    },
    {
      "cell_type": "code",
      "source": [
        "String = \"ankara\"\n",
        "print(list(String))\n",
        "print(set(String))"
      ],
      "metadata": {
        "colab": {
          "base_uri": "https://localhost:8080/"
        },
        "id": "cEUOIpFPXIU_",
        "outputId": "b9d46814-e1c2-4218-a7f9-8bb693c1d29b"
      },
      "execution_count": null,
      "outputs": [
        {
          "output_type": "stream",
          "name": "stdout",
          "text": [
            "['a', 'n', 'k', 'a', 'r', 'a']\n",
            "{'n', 'k', 'a', 'r'}\n"
          ]
        }
      ]
    },
    {
      "cell_type": "code",
      "source": [
        "set_1 = { \" \" }\n",
        "set_1"
      ],
      "metadata": {
        "colab": {
          "base_uri": "https://localhost:8080/"
        },
        "id": "c7rXXzlRXx0j",
        "outputId": "b25db08c-2e8a-410a-8060-34a501d3ffb2"
      },
      "execution_count": null,
      "outputs": [
        {
          "output_type": "execute_result",
          "data": {
            "text/plain": [
              "{' '}"
            ]
          },
          "metadata": {},
          "execution_count": 140
        }
      ]
    },
    {
      "cell_type": "code",
      "source": [
        "type(set_1)"
      ],
      "metadata": {
        "colab": {
          "base_uri": "https://localhost:8080/"
        },
        "id": "SSqObLorX_lW",
        "outputId": "4be8063b-5c0b-41a2-b289-50e96490b8c1"
      },
      "execution_count": null,
      "outputs": [
        {
          "output_type": "execute_result",
          "data": {
            "text/plain": [
              "set"
            ]
          },
          "metadata": {},
          "execution_count": 141
        }
      ]
    },
    {
      "cell_type": "code",
      "source": [
        "set_2 = set()\n",
        "print(set_2)"
      ],
      "metadata": {
        "colab": {
          "base_uri": "https://localhost:8080/"
        },
        "id": "eEKylDv-Yqwe",
        "outputId": "36c87053-669a-4e74-bcb4-d687f4a18a10"
      },
      "execution_count": null,
      "outputs": [
        {
          "output_type": "stream",
          "name": "stdout",
          "text": [
            "set()\n"
          ]
        }
      ]
    },
    {
      "cell_type": "code",
      "source": [
        "num1 = float(input(\"Enter the first number: \"))\n",
        "num2 = float(input(\"Enter the second number: \"))\n",
        "num3 = float(input(\"Enter the third number: \"))\n",
        "result = num1 * num2 * num3\n",
        "print(\"The result of multiplying {}, {}, and {} is: {}\".format(num1, num2, num3, result))"
      ],
      "metadata": {
        "colab": {
          "base_uri": "https://localhost:8080/"
        },
        "id": "5_g7JN4hZPuP",
        "outputId": "2fe3d379-90fb-4edb-8642-71daff337333"
      },
      "execution_count": null,
      "outputs": [
        {
          "output_type": "stream",
          "name": "stdout",
          "text": [
            "Enter the first number: 2\n",
            "Enter the second number: 1\n",
            "Enter the third number: 4\n",
            "The result of multiplying 2.0, 1.0, and 4.0 is: 8.0\n"
          ]
        }
      ]
    },
    {
      "cell_type": "markdown",
      "source": [
        "Get **word**, **seperator** and **repetition** values from the user and print the word on the screen according to the given values. Ex: word = ali sep = / repetition = 3 ----> ali/ali/ali"
      ],
      "metadata": {
        "id": "bEpJsfkgaFio"
      }
    },
    {
      "cell_type": "code",
      "source": [
        "Get **word**, **seperator** and **repetition** values from the user and print the word on the screen according to the given values.\n",
        "Ex: word = ali sep = / repetition = 3 ----> ali/ali/ali\n",
        "\n",
        "word = input(\"Enter the word: \")\n",
        "separator = input(\"Enter the separator: \")\n",
        "repetition = int(input(\"Enter the number of repetitions: \"))"
      ],
      "metadata": {
        "id": "98iA7PENaHox"
      },
      "execution_count": null,
      "outputs": []
    },
    {
      "cell_type": "code",
      "source": [
        "word = input(\"Enter the word: \")\n",
        "separator = input(\"Enter the separator: \")\n",
        "repetition = int(input(\"Enter the number of repetitions: \"))\n",
        "result = (word + separator) * (repetition - 1) + word\n",
        "print(result)"
      ],
      "metadata": {
        "colab": {
          "base_uri": "https://localhost:8080/",
          "height": 367
        },
        "id": "r9bZ3pfNab_y",
        "outputId": "8880410f-760b-4b5e-cbf8-330a9285f816"
      },
      "execution_count": null,
      "outputs": [
        {
          "name": "stdout",
          "output_type": "stream",
          "text": [
            "Enter the word: enes\n"
          ]
        },
        {
          "output_type": "error",
          "ename": "KeyboardInterrupt",
          "evalue": "Interrupted by user",
          "traceback": [
            "\u001b[0;31m---------------------------------------------------------------------------\u001b[0m",
            "\u001b[0;31mKeyboardInterrupt\u001b[0m                         Traceback (most recent call last)",
            "\u001b[0;32m<ipython-input-156-4551997108f7>\u001b[0m in \u001b[0;36m<cell line: 0>\u001b[0;34m()\u001b[0m\n\u001b[1;32m      1\u001b[0m \u001b[0mword\u001b[0m \u001b[0;34m=\u001b[0m \u001b[0minput\u001b[0m\u001b[0;34m(\u001b[0m\u001b[0;34m\"Enter the word: \"\u001b[0m\u001b[0;34m)\u001b[0m\u001b[0;34m\u001b[0m\u001b[0;34m\u001b[0m\u001b[0m\n\u001b[0;32m----> 2\u001b[0;31m \u001b[0mseparator\u001b[0m \u001b[0;34m=\u001b[0m \u001b[0minput\u001b[0m\u001b[0;34m(\u001b[0m\u001b[0;34m\"Enter the separator: \"\u001b[0m\u001b[0;34m)\u001b[0m\u001b[0;34m\u001b[0m\u001b[0;34m\u001b[0m\u001b[0m\n\u001b[0m\u001b[1;32m      3\u001b[0m \u001b[0mrepetition\u001b[0m \u001b[0;34m=\u001b[0m \u001b[0mint\u001b[0m\u001b[0;34m(\u001b[0m\u001b[0minput\u001b[0m\u001b[0;34m(\u001b[0m\u001b[0;34m\"Enter the number of repetitions: \"\u001b[0m\u001b[0;34m)\u001b[0m\u001b[0;34m)\u001b[0m\u001b[0;34m\u001b[0m\u001b[0;34m\u001b[0m\u001b[0m\n\u001b[1;32m      4\u001b[0m \u001b[0mresult\u001b[0m \u001b[0;34m=\u001b[0m \u001b[0;34m(\u001b[0m\u001b[0mword\u001b[0m \u001b[0;34m+\u001b[0m \u001b[0mseparator\u001b[0m\u001b[0;34m)\u001b[0m \u001b[0;34m*\u001b[0m \u001b[0;34m(\u001b[0m\u001b[0mrepetition\u001b[0m \u001b[0;34m-\u001b[0m \u001b[0;36m1\u001b[0m\u001b[0;34m)\u001b[0m \u001b[0;34m+\u001b[0m \u001b[0mword\u001b[0m\u001b[0;34m\u001b[0m\u001b[0;34m\u001b[0m\u001b[0m\n\u001b[1;32m      5\u001b[0m \u001b[0mprint\u001b[0m\u001b[0;34m(\u001b[0m\u001b[0mresult\u001b[0m\u001b[0;34m)\u001b[0m\u001b[0;34m\u001b[0m\u001b[0;34m\u001b[0m\u001b[0m\n",
            "\u001b[0;32m/usr/local/lib/python3.11/dist-packages/ipykernel/kernelbase.py\u001b[0m in \u001b[0;36mraw_input\u001b[0;34m(self, prompt)\u001b[0m\n\u001b[1;32m   1175\u001b[0m                 \u001b[0;34m\"raw_input was called, but this frontend does not support input requests.\"\u001b[0m\u001b[0;34m\u001b[0m\u001b[0;34m\u001b[0m\u001b[0m\n\u001b[1;32m   1176\u001b[0m             )\n\u001b[0;32m-> 1177\u001b[0;31m         return self._input_request(\n\u001b[0m\u001b[1;32m   1178\u001b[0m             \u001b[0mstr\u001b[0m\u001b[0;34m(\u001b[0m\u001b[0mprompt\u001b[0m\u001b[0;34m)\u001b[0m\u001b[0;34m,\u001b[0m\u001b[0;34m\u001b[0m\u001b[0;34m\u001b[0m\u001b[0m\n\u001b[1;32m   1179\u001b[0m             \u001b[0mself\u001b[0m\u001b[0;34m.\u001b[0m\u001b[0m_parent_ident\u001b[0m\u001b[0;34m[\u001b[0m\u001b[0;34m\"shell\"\u001b[0m\u001b[0;34m]\u001b[0m\u001b[0;34m,\u001b[0m\u001b[0;34m\u001b[0m\u001b[0;34m\u001b[0m\u001b[0m\n",
            "\u001b[0;32m/usr/local/lib/python3.11/dist-packages/ipykernel/kernelbase.py\u001b[0m in \u001b[0;36m_input_request\u001b[0;34m(self, prompt, ident, parent, password)\u001b[0m\n\u001b[1;32m   1217\u001b[0m             \u001b[0;32mexcept\u001b[0m \u001b[0mKeyboardInterrupt\u001b[0m\u001b[0;34m:\u001b[0m\u001b[0;34m\u001b[0m\u001b[0;34m\u001b[0m\u001b[0m\n\u001b[1;32m   1218\u001b[0m                 \u001b[0;31m# re-raise KeyboardInterrupt, to truncate traceback\u001b[0m\u001b[0;34m\u001b[0m\u001b[0;34m\u001b[0m\u001b[0m\n\u001b[0;32m-> 1219\u001b[0;31m                 \u001b[0;32mraise\u001b[0m \u001b[0mKeyboardInterrupt\u001b[0m\u001b[0;34m(\u001b[0m\u001b[0;34m\"Interrupted by user\"\u001b[0m\u001b[0;34m)\u001b[0m \u001b[0;32mfrom\u001b[0m \u001b[0;32mNone\u001b[0m\u001b[0;34m\u001b[0m\u001b[0;34m\u001b[0m\u001b[0m\n\u001b[0m\u001b[1;32m   1220\u001b[0m             \u001b[0;32mexcept\u001b[0m \u001b[0mException\u001b[0m\u001b[0;34m:\u001b[0m\u001b[0;34m\u001b[0m\u001b[0;34m\u001b[0m\u001b[0m\n\u001b[1;32m   1221\u001b[0m                 \u001b[0mself\u001b[0m\u001b[0;34m.\u001b[0m\u001b[0mlog\u001b[0m\u001b[0;34m.\u001b[0m\u001b[0mwarning\u001b[0m\u001b[0;34m(\u001b[0m\u001b[0;34m\"Invalid Message:\"\u001b[0m\u001b[0;34m,\u001b[0m \u001b[0mexc_info\u001b[0m\u001b[0;34m=\u001b[0m\u001b[0;32mTrue\u001b[0m\u001b[0;34m)\u001b[0m\u001b[0;34m\u001b[0m\u001b[0;34m\u001b[0m\u001b[0m\n",
            "\u001b[0;31mKeyboardInterrupt\u001b[0m: Interrupted by user"
          ]
        }
      ]
    },
    {
      "cell_type": "code",
      "source": [
        "5*5"
      ],
      "metadata": {
        "colab": {
          "base_uri": "https://localhost:8080/"
        },
        "id": "tS5lCH_hay1-",
        "outputId": "fff1eb09-0c44-4f59-fc3e-1d753f4f9384"
      },
      "execution_count": null,
      "outputs": [
        {
          "output_type": "execute_result",
          "data": {
            "text/plain": [
              "25"
            ]
          },
          "metadata": {},
          "execution_count": 151
        }
      ]
    },
    {
      "cell_type": "code",
      "source": [
        "5*\"5\""
      ],
      "metadata": {
        "colab": {
          "base_uri": "https://localhost:8080/",
          "height": 35
        },
        "id": "yhA7B2o0a2Z8",
        "outputId": "38e55f92-bb10-45ed-c192-e77308f94574"
      },
      "execution_count": null,
      "outputs": [
        {
          "output_type": "execute_result",
          "data": {
            "text/plain": [
              "'55555'"
            ],
            "application/vnd.google.colaboratory.intrinsic+json": {
              "type": "string"
            }
          },
          "metadata": {},
          "execution_count": 152
        }
      ]
    },
    {
      "cell_type": "markdown",
      "source": [],
      "metadata": {
        "id": "xfw_vm6Caltf"
      }
    },
    {
      "cell_type": "markdown",
      "source": [
        "Get a sitring and an integer input from the user and get the output shown as in the example. Ex: word = Magnimind n = 4 OUTPUT =mindmindmindmind"
      ],
      "metadata": {
        "id": "hRSKQflQcIoF"
      }
    },
    {
      "cell_type": "code",
      "source": [
        "word = input(\"Enter a word: \")\n",
        "n = int(input(\"Enter a number: \"))\n",
        "last_part = word[-n:]\n",
        "result1= last_part * n\n",
        "print(result1)\n"
      ],
      "metadata": {
        "colab": {
          "base_uri": "https://localhost:8080/"
        },
        "id": "STwfI_wScJul",
        "outputId": "979b77a9-2285-4241-d210-4cafb1ce5cee"
      },
      "execution_count": null,
      "outputs": [
        {
          "output_type": "stream",
          "name": "stdout",
          "text": [
            "Enter a word: aliveli\n",
            "Enter a number: 4\n",
            "veliveliveliveli\n"
          ]
        }
      ]
    },
    {
      "cell_type": "code",
      "source": [
        "a = \"magnimind\"\n",
        "a[-4:]"
      ],
      "metadata": {
        "colab": {
          "base_uri": "https://localhost:8080/",
          "height": 35
        },
        "id": "NiL2-uUzcy3i",
        "outputId": "898195eb-bef3-4d46-cc85-7aab4bd83831"
      },
      "execution_count": null,
      "outputs": [
        {
          "output_type": "execute_result",
          "data": {
            "text/plain": [
              "'mind'"
            ],
            "application/vnd.google.colaboratory.intrinsic+json": {
              "type": "string"
            }
          },
          "metadata": {},
          "execution_count": 157
        }
      ]
    },
    {
      "cell_type": "markdown",
      "source": [
        "#Question1\n",
        "Find out if a given year is a \"leap\" year.\n",
        "  - In the Gregorian calendar, three criteria must be taken into account to identify leap years:\n",
        "  \n",
        "    - The year must be evenly divisible by 4;\n",
        "    - If the year can also be evenly divided by 100, it is not a leap year; unless...(next one)\n",
        "    - The year is also evenly divisible by 400. Then it is a leap year.\n",
        "- According to these rules, the years 2000 and 2400 are leap years, while 1800, 1900, 2100, 2200, 2300, and 2500 are not the leap years.\n",
        "- Write a Python program that;\n",
        "  - Takes a 4-digit year from the user,\n",
        "  - Prints `True` if the given year by the user is a leap year, prints `False` otherwise.\n",
        "  \n",
        "> Note that; this question is famous on the web, so that do it yourself to get more benefits from it."
      ],
      "metadata": {
        "id": "3FfRkhP1d_sS"
      }
    },
    {
      "cell_type": "code",
      "source": [],
      "metadata": {
        "id": "ulJs8x_meZVB"
      },
      "execution_count": null,
      "outputs": []
    },
    {
      "cell_type": "code",
      "source": [
        "year= int(input(\"Enter a year: \"))\n",
        "year % 4 == 0"
      ],
      "metadata": {
        "colab": {
          "base_uri": "https://localhost:8080/"
        },
        "id": "hNNXadtge4Rw",
        "outputId": "f8929414-798b-4671-afc1-df635ac49ee8"
      },
      "execution_count": null,
      "outputs": [
        {
          "name": "stdout",
          "output_type": "stream",
          "text": [
            "Enter a year: 4\n"
          ]
        },
        {
          "output_type": "execute_result",
          "data": {
            "text/plain": [
              "True"
            ]
          },
          "metadata": {},
          "execution_count": 162
        }
      ]
    },
    {
      "cell_type": "code",
      "source": [
        "True or False"
      ],
      "metadata": {
        "colab": {
          "base_uri": "https://localhost:8080/"
        },
        "id": "5kop9QPcfk5I",
        "outputId": "ea573010-0b51-4119-d03c-221c1f434dd3"
      },
      "execution_count": null,
      "outputs": [
        {
          "output_type": "execute_result",
          "data": {
            "text/plain": [
              "True"
            ]
          },
          "metadata": {},
          "execution_count": 163
        }
      ]
    }
  ]
}