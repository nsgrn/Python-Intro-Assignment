{
  "nbformat": 4,
  "nbformat_minor": 0,
  "metadata": {
    "colab": {
      "provenance": [],
      "authorship_tag": "ABX9TyMIKKt+98fIkAc0MpormgMq",
      "include_colab_link": true
    },
    "kernelspec": {
      "name": "python3",
      "display_name": "Python 3"
    },
    "language_info": {
      "name": "python"
    }
  },
  "cells": [
    {
      "cell_type": "markdown",
      "metadata": {
        "id": "view-in-github",
        "colab_type": "text"
      },
      "source": [
        "<a href=\"https://colab.research.google.com/github/nsgrn/Python-Intro-Assignment/blob/main/Numpy_HomeWork.ipynb\" target=\"_parent\"><img src=\"https://colab.research.google.com/assets/colab-badge.svg\" alt=\"Open In Colab\"/></a>"
      ]
    },
    {
      "cell_type": "markdown",
      "source": [
        "#1- Create three lists representing house features, each list containing ten values. The first one for the house's size in square meters, the second one for rooms and last for price. Then, create an array combining these lists."
      ],
      "metadata": {
        "id": "DJvO9hoibWKe"
      }
    },
    {
      "cell_type": "code",
      "execution_count": 11,
      "metadata": {
        "colab": {
          "base_uri": "https://localhost:8080/"
        },
        "id": "HIQl2kNLbT7f",
        "outputId": "451ebc57-9f9f-4a79-8a28-d1d484216144"
      },
      "outputs": [
        {
          "output_type": "stream",
          "name": "stdout",
          "text": [
            "[['H_1' 'H_2' 'H_3' 'H_4' 'H_5' 'H_6' 'H_7' 'H_8' 'H_9' 'H_10']\n",
            " ['60' '75' '83' '91' '87' '76' '45' '33' '54' '101']\n",
            " ['12' '8' '9' '1' '3' '4' '7' '3' '2' '6']\n",
            " ['110' '200' '800' '600' '750' '1300' '320' '6660' '765' '12300']]\n"
          ]
        }
      ],
      "source": [
        "import numpy as np\n",
        "houses = [\"H_1\", \"H_2\", \"H_3\", \"H_4\", \"H_5\", \"H_6\", \"H_7\", \"H_8\", \"H_9\", \"H_10\" ]\n",
        "house_sizes = [60, 75, 83, 91, 87, 76, 45, 33, 54, 101]\n",
        "num_of_rooms = [12, 8, 9, 1, 3, 4, 7, 3, 2, 6]\n",
        "house_prices = [110, 200, 800, 600, 750, 1300, 320, 6660, 765, 12300]\n",
        "house_features = np.array([houses, house_sizes, num_of_rooms, house_prices])\n",
        "print(house_features)"
      ]
    },
    {
      "cell_type": "code",
      "source": [
        "house_features[1][0] = 32\n",
        "print(house_features)"
      ],
      "metadata": {
        "colab": {
          "base_uri": "https://localhost:8080/"
        },
        "id": "wVeEPXNRlpQv",
        "outputId": "5dc4fc06-57ec-4d48-df38-a26528b940c6"
      },
      "execution_count": 12,
      "outputs": [
        {
          "output_type": "stream",
          "name": "stdout",
          "text": [
            "[['H_1' 'H_2' 'H_3' 'H_4' 'H_5' 'H_6' 'H_7' 'H_8' 'H_9' 'H_10']\n",
            " ['32' '75' '83' '91' '87' '76' '45' '33' '54' '101']\n",
            " ['12' '8' '9' '1' '3' '4' '7' '3' '2' '6']\n",
            " ['110' '200' '800' '600' '750' '1300' '320' '6660' '765' '12300']]\n"
          ]
        }
      ]
    },
    {
      "cell_type": "code",
      "source": [
        "house_features[0][0] = \"first_H\"\n",
        "print(house_features)"
      ],
      "metadata": {
        "colab": {
          "base_uri": "https://localhost:8080/"
        },
        "id": "A9vkC_l7lzsr",
        "outputId": "33341087-f015-45a8-93d8-67b76085d836"
      },
      "execution_count": 13,
      "outputs": [
        {
          "output_type": "stream",
          "name": "stdout",
          "text": [
            "[['first_H' 'H_2' 'H_3' 'H_4' 'H_5' 'H_6' 'H_7' 'H_8' 'H_9' 'H_10']\n",
            " ['32' '75' '83' '91' '87' '76' '45' '33' '54' '101']\n",
            " ['12' '8' '9' '1' '3' '4' '7' '3' '2' '6']\n",
            " ['110' '200' '800' '600' '750' '1300' '320' '6660' '765' '12300']]\n"
          ]
        }
      ]
    },
    {
      "cell_type": "markdown",
      "source": [
        "#3- Display the shape of the array and explain what it means. This means 4 rows 10 columns"
      ],
      "metadata": {
        "id": "lYSXCeJWmYAi"
      }
    },
    {
      "cell_type": "code",
      "source": [
        "print(house_features.shape)"
      ],
      "metadata": {
        "colab": {
          "base_uri": "https://localhost:8080/"
        },
        "id": "gOIX-cn7jxCq",
        "outputId": "dd5cc86b-9b77-49b0-f3da-be32ba3dfc99"
      },
      "execution_count": 14,
      "outputs": [
        {
          "output_type": "stream",
          "name": "stdout",
          "text": [
            "(4, 10)\n"
          ]
        }
      ]
    },
    {
      "cell_type": "code",
      "source": [
        "print(house_features.reshape(2,20))"
      ],
      "metadata": {
        "colab": {
          "base_uri": "https://localhost:8080/"
        },
        "id": "9hHJuRSPkHGm",
        "outputId": "e11a50e9-ac35-45b6-a455-29c52d23100a"
      },
      "execution_count": 8,
      "outputs": [
        {
          "output_type": "stream",
          "name": "stdout",
          "text": [
            "[['first_H' 'H_2' 'H_3' 'H_4' 'H_5' 'H_6' 'H_7' 'H_8' 'H_9' 'H_10' '32'\n",
            "  '75' '83' '91' '87' '76' '45' '33' '54' '101']\n",
            " ['12' '8' '9' '1' '3' '4' '7' '3' '2' '6' '110' '200' '800' '600' '750'\n",
            "  '1300' '320' '6660' '765' '12300']]\n"
          ]
        }
      ]
    },
    {
      "cell_type": "markdown",
      "source": [
        "#2- Transpose the array you have created, so that every line can represent features of one house."
      ],
      "metadata": {
        "id": "B0TUP6DgmGvj"
      }
    },
    {
      "cell_type": "code",
      "source": [
        "print(house_features.T)"
      ],
      "metadata": {
        "colab": {
          "base_uri": "https://localhost:8080/"
        },
        "id": "tUaWr0z8mILZ",
        "outputId": "55561024-3b53-4852-81db-d6de7ab3557c"
      },
      "execution_count": 15,
      "outputs": [
        {
          "output_type": "stream",
          "name": "stdout",
          "text": [
            "[['first_H' '32' '12' '110']\n",
            " ['H_2' '75' '8' '200']\n",
            " ['H_3' '83' '9' '800']\n",
            " ['H_4' '91' '1' '600']\n",
            " ['H_5' '87' '3' '750']\n",
            " ['H_6' '76' '4' '1300']\n",
            " ['H_7' '45' '7' '320']\n",
            " ['H_8' '33' '3' '6660']\n",
            " ['H_9' '54' '2' '765']\n",
            " ['H_10' '101' '6' '12300']]\n"
          ]
        }
      ]
    },
    {
      "cell_type": "markdown",
      "source": [
        "#4- Load the Earthquakes dataset. Export the dataset to an array as you covered in the previous lesson.\n"
      ],
      "metadata": {
        "id": "7HT1drKfx8aQ"
      }
    },
    {
      "cell_type": "code",
      "source": [
        "import pandas as pd\n",
        "my_dataset = pd.read_csv(\"earthquakes1970-2014.csv\")\n",
        "print(my_dataset)"
      ],
      "metadata": {
        "colab": {
          "base_uri": "https://localhost:8080/"
        },
        "collapsed": true,
        "id": "fLpmKskK-Fiq",
        "outputId": "d7c8d3a2-2039-4027-8078-1d80045e6f36"
      },
      "execution_count": 17,
      "outputs": [
        {
          "output_type": "stream",
          "name": "stdout",
          "text": [
            "                    DateTime  Latitude  Longitude   Depth  Magnitude MagType  \\\n",
            "0     1970/01/04 17:00:40.20   24.1390   102.5030   31.00        7.5      Ms   \n",
            "1     1970/01/06 05:35:51.80   -9.6280   151.4580    8.00        6.2      Ms   \n",
            "2     1970/01/08 17:12:39.10  -34.7410   178.5680  179.00        6.1      Mb   \n",
            "3     1970/01/10 12:07:08.60    6.8250   126.7370   73.00        6.1      Mb   \n",
            "4     1970/01/16 08:05:39.00   60.2800  -152.6600   85.00        6.0      ML   \n",
            "...                      ...       ...        ...     ...        ...     ...   \n",
            "5299  2013/12/01 06:29:57.80    2.0440    96.8261   20.00        6.0      Mw   \n",
            "5300  2013/12/08 17:24:54.20   44.4438   149.1667   28.00        6.1      Mw   \n",
            "5301  2013/12/17 23:38:08.10   20.7635   146.7599   16.06        6.2      Mw   \n",
            "5302  2014/01/01 16:03:28.89  -13.8779   167.2434  187.00        6.5      Mw   \n",
            "5303  2014/01/13 04:01:04.69   19.0014   -66.8478   28.00        6.4      Mw   \n",
            "\n",
            "      NbStations   Gap  Distance   RMS Source       EventID  \n",
            "0           90.0   NaN       NaN  0.00    NEI  1.970010e+09  \n",
            "1           85.0   NaN       NaN  0.00    NEI  1.970011e+09  \n",
            "2           59.0   NaN       NaN  0.00    NEI  1.970011e+09  \n",
            "3           91.0   NaN       NaN  0.00    NEI  1.970011e+09  \n",
            "4            0.0   NaN       NaN   NaN     AK           NaN  \n",
            "...          ...   ...       ...   ...    ...           ...  \n",
            "5299         NaN  27.0       1.0  0.89     us  2.013120e+09  \n",
            "5300         NaN  26.0       5.0  0.99     us  2.013121e+09  \n",
            "5301         NaN  14.0       4.0  0.74     us  2.013122e+09  \n",
            "5302         NaN  14.0       4.0  0.67     us  2.014010e+09  \n",
            "5303         NaN  21.0       1.0  1.42     us  2.014011e+09  \n",
            "\n",
            "[5304 rows x 12 columns]\n"
          ]
        }
      ]
    },
    {
      "cell_type": "code",
      "source": [
        "import numpy as np\n",
        "data_array = my_dataset.to_numpy()\n",
        "print(data_array)"
      ],
      "metadata": {
        "colab": {
          "base_uri": "https://localhost:8080/"
        },
        "collapsed": true,
        "id": "Mq1n-3IX_Knn",
        "outputId": "7cb03e46-22fa-447f-e1bc-40e1e2256f2c"
      },
      "execution_count": 18,
      "outputs": [
        {
          "output_type": "stream",
          "name": "stdout",
          "text": [
            "[['1970/01/04 17:00:40.20' 24.1389999999999 102.503 ... 0.0 'NEI'\n",
            "  1970010440.0]\n",
            " ['1970/01/06 05:35:51.80' -9.628 151.458 ... 0.0 'NEI' 1970010640.0]\n",
            " ['1970/01/08 17:12:39.10' -34.741 178.568 ... 0.0 'NEI' 1970010840.0]\n",
            " ...\n",
            " ['2013/12/17 23:38:08.10' 20.7635 146.759899999999 ... 0.74 'us'\n",
            "  2013121720.0]\n",
            " ['2014/01/01 16:03:28.89' -13.8779 167.2434 ... 0.67 'us' 2014010120.0]\n",
            " ['2014/01/13 04:01:04.69' 19.0014 -66.8478 ... 1.42 'us' 2014011320.0]]\n"
          ]
        }
      ]
    },
    {
      "cell_type": "markdown",
      "source": [
        "#5- Slice first 20 rows and column numbers 3, 5, 6, 7, 12. Then, assign the array you sliced to a variable."
      ],
      "metadata": {
        "id": "nnHJXR40-auh"
      }
    },
    {
      "cell_type": "code",
      "source": [
        "new_array = data_array[:20, [2, 4, 5, 6, 11]]\n",
        "new_array"
      ],
      "metadata": {
        "colab": {
          "base_uri": "https://localhost:8080/"
        },
        "id": "litm3f-syddV",
        "outputId": "09ebeb17-4226-42ca-c964-e71cf2e42f79"
      },
      "execution_count": 19,
      "outputs": [
        {
          "output_type": "execute_result",
          "data": {
            "text/plain": [
              "array([[102.503, 7.5, 'Ms', 90.0, 1970010440.0],\n",
              "       [151.458, 6.2, 'Ms', 85.0, 1970010640.0],\n",
              "       [178.568, 6.1, 'Mb', 59.0, 1970010840.0],\n",
              "       [126.736999999999, 6.1, 'Mb', 91.0, 1970011040.0],\n",
              "       [-152.66, 6.0, 'ML', 0.0, nan],\n",
              "       [-177.348999999999, 6.5, 'Mb', 175.0, 1970012040.0],\n",
              "       [142.966, 6.4, 'Ms', 199.0, 1970012040.0],\n",
              "       [-104.298, 6.6, 'Ms', 140.0, 1970012140.0],\n",
              "       [166.37, 6.4, 'Ms', 91.0, 1970012640.0],\n",
              "       [-99.48399999999991, 6.5, 'Ms', 100.0, 1970020440.0],\n",
              "       [122.117, 6.6, 'Ms', 94.0, 1970020540.0],\n",
              "       [100.775, 6.1, 'Ms', 57.0, 1970020640.0],\n",
              "       [103.031, 6.0, 'Ms', 94.0, 1970022440.0],\n",
              "       [-179.5898, 6.0, 'ML', 0.0, nan],\n",
              "       [-175.039999999999, 6.1, 'ML', 0.0, nan],\n",
              "       [143.706999999999, 6.2, 'Ms', 82.0, 1970030440.0],\n",
              "       [168.603, 6.5, 'Ms', 61.0, 1970030940.0],\n",
              "       [148.87, 6.0, 'Mb', 65.0, 1970031040.0],\n",
              "       [-153.97, 6.5, 'ML', 0.0, nan],\n",
              "       [-69.49899999999991, 6.0, 'Mb', 118.0, 1970031540.0]], dtype=object)"
            ]
          },
          "metadata": {},
          "execution_count": 19
        }
      ]
    },
    {
      "cell_type": "code",
      "source": [
        "sliced_data = my_dataset.iloc[:20, [2, 4, 5, 6, 11]]\n",
        "sliced_data"
      ],
      "metadata": {
        "colab": {
          "base_uri": "https://localhost:8080/",
          "height": 657
        },
        "collapsed": true,
        "id": "lmPQfqS3N2Pe",
        "outputId": "0726b5c1-371f-456e-a77f-1f5ff49e404a"
      },
      "execution_count": 20,
      "outputs": [
        {
          "output_type": "execute_result",
          "data": {
            "text/plain": [
              "    Longitude  Magnitude MagType  NbStations       EventID\n",
              "0    102.5030        7.5      Ms        90.0  1.970010e+09\n",
              "1    151.4580        6.2      Ms        85.0  1.970011e+09\n",
              "2    178.5680        6.1      Mb        59.0  1.970011e+09\n",
              "3    126.7370        6.1      Mb        91.0  1.970011e+09\n",
              "4   -152.6600        6.0      ML         0.0           NaN\n",
              "5   -177.3490        6.5      Mb       175.0  1.970012e+09\n",
              "6    142.9660        6.4      Ms       199.0  1.970012e+09\n",
              "7   -104.2980        6.6      Ms       140.0  1.970012e+09\n",
              "8    166.3700        6.4      Ms        91.0  1.970013e+09\n",
              "9    -99.4840        6.5      Ms       100.0  1.970020e+09\n",
              "10   122.1170        6.6      Ms        94.0  1.970021e+09\n",
              "11   100.7750        6.1      Ms        57.0  1.970021e+09\n",
              "12   103.0310        6.0      Ms        94.0  1.970022e+09\n",
              "13  -179.5898        6.0      ML         0.0           NaN\n",
              "14  -175.0400        6.1      ML         0.0           NaN\n",
              "15   143.7070        6.2      Ms        82.0  1.970030e+09\n",
              "16   168.6030        6.5      Ms        61.0  1.970031e+09\n",
              "17   148.8700        6.0      Mb        65.0  1.970031e+09\n",
              "18  -153.9700        6.5      ML         0.0           NaN\n",
              "19   -69.4990        6.0      Mb       118.0  1.970032e+09"
            ],
            "text/html": [
              "\n",
              "  <div id=\"df-d64cd6ef-ae64-4519-a1c9-f7dd237f564a\" class=\"colab-df-container\">\n",
              "    <div>\n",
              "<style scoped>\n",
              "    .dataframe tbody tr th:only-of-type {\n",
              "        vertical-align: middle;\n",
              "    }\n",
              "\n",
              "    .dataframe tbody tr th {\n",
              "        vertical-align: top;\n",
              "    }\n",
              "\n",
              "    .dataframe thead th {\n",
              "        text-align: right;\n",
              "    }\n",
              "</style>\n",
              "<table border=\"1\" class=\"dataframe\">\n",
              "  <thead>\n",
              "    <tr style=\"text-align: right;\">\n",
              "      <th></th>\n",
              "      <th>Longitude</th>\n",
              "      <th>Magnitude</th>\n",
              "      <th>MagType</th>\n",
              "      <th>NbStations</th>\n",
              "      <th>EventID</th>\n",
              "    </tr>\n",
              "  </thead>\n",
              "  <tbody>\n",
              "    <tr>\n",
              "      <th>0</th>\n",
              "      <td>102.5030</td>\n",
              "      <td>7.5</td>\n",
              "      <td>Ms</td>\n",
              "      <td>90.0</td>\n",
              "      <td>1.970010e+09</td>\n",
              "    </tr>\n",
              "    <tr>\n",
              "      <th>1</th>\n",
              "      <td>151.4580</td>\n",
              "      <td>6.2</td>\n",
              "      <td>Ms</td>\n",
              "      <td>85.0</td>\n",
              "      <td>1.970011e+09</td>\n",
              "    </tr>\n",
              "    <tr>\n",
              "      <th>2</th>\n",
              "      <td>178.5680</td>\n",
              "      <td>6.1</td>\n",
              "      <td>Mb</td>\n",
              "      <td>59.0</td>\n",
              "      <td>1.970011e+09</td>\n",
              "    </tr>\n",
              "    <tr>\n",
              "      <th>3</th>\n",
              "      <td>126.7370</td>\n",
              "      <td>6.1</td>\n",
              "      <td>Mb</td>\n",
              "      <td>91.0</td>\n",
              "      <td>1.970011e+09</td>\n",
              "    </tr>\n",
              "    <tr>\n",
              "      <th>4</th>\n",
              "      <td>-152.6600</td>\n",
              "      <td>6.0</td>\n",
              "      <td>ML</td>\n",
              "      <td>0.0</td>\n",
              "      <td>NaN</td>\n",
              "    </tr>\n",
              "    <tr>\n",
              "      <th>5</th>\n",
              "      <td>-177.3490</td>\n",
              "      <td>6.5</td>\n",
              "      <td>Mb</td>\n",
              "      <td>175.0</td>\n",
              "      <td>1.970012e+09</td>\n",
              "    </tr>\n",
              "    <tr>\n",
              "      <th>6</th>\n",
              "      <td>142.9660</td>\n",
              "      <td>6.4</td>\n",
              "      <td>Ms</td>\n",
              "      <td>199.0</td>\n",
              "      <td>1.970012e+09</td>\n",
              "    </tr>\n",
              "    <tr>\n",
              "      <th>7</th>\n",
              "      <td>-104.2980</td>\n",
              "      <td>6.6</td>\n",
              "      <td>Ms</td>\n",
              "      <td>140.0</td>\n",
              "      <td>1.970012e+09</td>\n",
              "    </tr>\n",
              "    <tr>\n",
              "      <th>8</th>\n",
              "      <td>166.3700</td>\n",
              "      <td>6.4</td>\n",
              "      <td>Ms</td>\n",
              "      <td>91.0</td>\n",
              "      <td>1.970013e+09</td>\n",
              "    </tr>\n",
              "    <tr>\n",
              "      <th>9</th>\n",
              "      <td>-99.4840</td>\n",
              "      <td>6.5</td>\n",
              "      <td>Ms</td>\n",
              "      <td>100.0</td>\n",
              "      <td>1.970020e+09</td>\n",
              "    </tr>\n",
              "    <tr>\n",
              "      <th>10</th>\n",
              "      <td>122.1170</td>\n",
              "      <td>6.6</td>\n",
              "      <td>Ms</td>\n",
              "      <td>94.0</td>\n",
              "      <td>1.970021e+09</td>\n",
              "    </tr>\n",
              "    <tr>\n",
              "      <th>11</th>\n",
              "      <td>100.7750</td>\n",
              "      <td>6.1</td>\n",
              "      <td>Ms</td>\n",
              "      <td>57.0</td>\n",
              "      <td>1.970021e+09</td>\n",
              "    </tr>\n",
              "    <tr>\n",
              "      <th>12</th>\n",
              "      <td>103.0310</td>\n",
              "      <td>6.0</td>\n",
              "      <td>Ms</td>\n",
              "      <td>94.0</td>\n",
              "      <td>1.970022e+09</td>\n",
              "    </tr>\n",
              "    <tr>\n",
              "      <th>13</th>\n",
              "      <td>-179.5898</td>\n",
              "      <td>6.0</td>\n",
              "      <td>ML</td>\n",
              "      <td>0.0</td>\n",
              "      <td>NaN</td>\n",
              "    </tr>\n",
              "    <tr>\n",
              "      <th>14</th>\n",
              "      <td>-175.0400</td>\n",
              "      <td>6.1</td>\n",
              "      <td>ML</td>\n",
              "      <td>0.0</td>\n",
              "      <td>NaN</td>\n",
              "    </tr>\n",
              "    <tr>\n",
              "      <th>15</th>\n",
              "      <td>143.7070</td>\n",
              "      <td>6.2</td>\n",
              "      <td>Ms</td>\n",
              "      <td>82.0</td>\n",
              "      <td>1.970030e+09</td>\n",
              "    </tr>\n",
              "    <tr>\n",
              "      <th>16</th>\n",
              "      <td>168.6030</td>\n",
              "      <td>6.5</td>\n",
              "      <td>Ms</td>\n",
              "      <td>61.0</td>\n",
              "      <td>1.970031e+09</td>\n",
              "    </tr>\n",
              "    <tr>\n",
              "      <th>17</th>\n",
              "      <td>148.8700</td>\n",
              "      <td>6.0</td>\n",
              "      <td>Mb</td>\n",
              "      <td>65.0</td>\n",
              "      <td>1.970031e+09</td>\n",
              "    </tr>\n",
              "    <tr>\n",
              "      <th>18</th>\n",
              "      <td>-153.9700</td>\n",
              "      <td>6.5</td>\n",
              "      <td>ML</td>\n",
              "      <td>0.0</td>\n",
              "      <td>NaN</td>\n",
              "    </tr>\n",
              "    <tr>\n",
              "      <th>19</th>\n",
              "      <td>-69.4990</td>\n",
              "      <td>6.0</td>\n",
              "      <td>Mb</td>\n",
              "      <td>118.0</td>\n",
              "      <td>1.970032e+09</td>\n",
              "    </tr>\n",
              "  </tbody>\n",
              "</table>\n",
              "</div>\n",
              "    <div class=\"colab-df-buttons\">\n",
              "\n",
              "  <div class=\"colab-df-container\">\n",
              "    <button class=\"colab-df-convert\" onclick=\"convertToInteractive('df-d64cd6ef-ae64-4519-a1c9-f7dd237f564a')\"\n",
              "            title=\"Convert this dataframe to an interactive table.\"\n",
              "            style=\"display:none;\">\n",
              "\n",
              "  <svg xmlns=\"http://www.w3.org/2000/svg\" height=\"24px\" viewBox=\"0 -960 960 960\">\n",
              "    <path d=\"M120-120v-720h720v720H120Zm60-500h600v-160H180v160Zm220 220h160v-160H400v160Zm0 220h160v-160H400v160ZM180-400h160v-160H180v160Zm440 0h160v-160H620v160ZM180-180h160v-160H180v160Zm440 0h160v-160H620v160Z\"/>\n",
              "  </svg>\n",
              "    </button>\n",
              "\n",
              "  <style>\n",
              "    .colab-df-container {\n",
              "      display:flex;\n",
              "      gap: 12px;\n",
              "    }\n",
              "\n",
              "    .colab-df-convert {\n",
              "      background-color: #E8F0FE;\n",
              "      border: none;\n",
              "      border-radius: 50%;\n",
              "      cursor: pointer;\n",
              "      display: none;\n",
              "      fill: #1967D2;\n",
              "      height: 32px;\n",
              "      padding: 0 0 0 0;\n",
              "      width: 32px;\n",
              "    }\n",
              "\n",
              "    .colab-df-convert:hover {\n",
              "      background-color: #E2EBFA;\n",
              "      box-shadow: 0px 1px 2px rgba(60, 64, 67, 0.3), 0px 1px 3px 1px rgba(60, 64, 67, 0.15);\n",
              "      fill: #174EA6;\n",
              "    }\n",
              "\n",
              "    .colab-df-buttons div {\n",
              "      margin-bottom: 4px;\n",
              "    }\n",
              "\n",
              "    [theme=dark] .colab-df-convert {\n",
              "      background-color: #3B4455;\n",
              "      fill: #D2E3FC;\n",
              "    }\n",
              "\n",
              "    [theme=dark] .colab-df-convert:hover {\n",
              "      background-color: #434B5C;\n",
              "      box-shadow: 0px 1px 3px 1px rgba(0, 0, 0, 0.15);\n",
              "      filter: drop-shadow(0px 1px 2px rgba(0, 0, 0, 0.3));\n",
              "      fill: #FFFFFF;\n",
              "    }\n",
              "  </style>\n",
              "\n",
              "    <script>\n",
              "      const buttonEl =\n",
              "        document.querySelector('#df-d64cd6ef-ae64-4519-a1c9-f7dd237f564a button.colab-df-convert');\n",
              "      buttonEl.style.display =\n",
              "        google.colab.kernel.accessAllowed ? 'block' : 'none';\n",
              "\n",
              "      async function convertToInteractive(key) {\n",
              "        const element = document.querySelector('#df-d64cd6ef-ae64-4519-a1c9-f7dd237f564a');\n",
              "        const dataTable =\n",
              "          await google.colab.kernel.invokeFunction('convertToInteractive',\n",
              "                                                    [key], {});\n",
              "        if (!dataTable) return;\n",
              "\n",
              "        const docLinkHtml = 'Like what you see? Visit the ' +\n",
              "          '<a target=\"_blank\" href=https://colab.research.google.com/notebooks/data_table.ipynb>data table notebook</a>'\n",
              "          + ' to learn more about interactive tables.';\n",
              "        element.innerHTML = '';\n",
              "        dataTable['output_type'] = 'display_data';\n",
              "        await google.colab.output.renderOutput(dataTable, element);\n",
              "        const docLink = document.createElement('div');\n",
              "        docLink.innerHTML = docLinkHtml;\n",
              "        element.appendChild(docLink);\n",
              "      }\n",
              "    </script>\n",
              "  </div>\n",
              "\n",
              "\n",
              "    <div id=\"df-424c7c5d-0632-4368-a208-56a40f05aec0\">\n",
              "      <button class=\"colab-df-quickchart\" onclick=\"quickchart('df-424c7c5d-0632-4368-a208-56a40f05aec0')\"\n",
              "                title=\"Suggest charts\"\n",
              "                style=\"display:none;\">\n",
              "\n",
              "<svg xmlns=\"http://www.w3.org/2000/svg\" height=\"24px\"viewBox=\"0 0 24 24\"\n",
              "     width=\"24px\">\n",
              "    <g>\n",
              "        <path d=\"M19 3H5c-1.1 0-2 .9-2 2v14c0 1.1.9 2 2 2h14c1.1 0 2-.9 2-2V5c0-1.1-.9-2-2-2zM9 17H7v-7h2v7zm4 0h-2V7h2v10zm4 0h-2v-4h2v4z\"/>\n",
              "    </g>\n",
              "</svg>\n",
              "      </button>\n",
              "\n",
              "<style>\n",
              "  .colab-df-quickchart {\n",
              "      --bg-color: #E8F0FE;\n",
              "      --fill-color: #1967D2;\n",
              "      --hover-bg-color: #E2EBFA;\n",
              "      --hover-fill-color: #174EA6;\n",
              "      --disabled-fill-color: #AAA;\n",
              "      --disabled-bg-color: #DDD;\n",
              "  }\n",
              "\n",
              "  [theme=dark] .colab-df-quickchart {\n",
              "      --bg-color: #3B4455;\n",
              "      --fill-color: #D2E3FC;\n",
              "      --hover-bg-color: #434B5C;\n",
              "      --hover-fill-color: #FFFFFF;\n",
              "      --disabled-bg-color: #3B4455;\n",
              "      --disabled-fill-color: #666;\n",
              "  }\n",
              "\n",
              "  .colab-df-quickchart {\n",
              "    background-color: var(--bg-color);\n",
              "    border: none;\n",
              "    border-radius: 50%;\n",
              "    cursor: pointer;\n",
              "    display: none;\n",
              "    fill: var(--fill-color);\n",
              "    height: 32px;\n",
              "    padding: 0;\n",
              "    width: 32px;\n",
              "  }\n",
              "\n",
              "  .colab-df-quickchart:hover {\n",
              "    background-color: var(--hover-bg-color);\n",
              "    box-shadow: 0 1px 2px rgba(60, 64, 67, 0.3), 0 1px 3px 1px rgba(60, 64, 67, 0.15);\n",
              "    fill: var(--button-hover-fill-color);\n",
              "  }\n",
              "\n",
              "  .colab-df-quickchart-complete:disabled,\n",
              "  .colab-df-quickchart-complete:disabled:hover {\n",
              "    background-color: var(--disabled-bg-color);\n",
              "    fill: var(--disabled-fill-color);\n",
              "    box-shadow: none;\n",
              "  }\n",
              "\n",
              "  .colab-df-spinner {\n",
              "    border: 2px solid var(--fill-color);\n",
              "    border-color: transparent;\n",
              "    border-bottom-color: var(--fill-color);\n",
              "    animation:\n",
              "      spin 1s steps(1) infinite;\n",
              "  }\n",
              "\n",
              "  @keyframes spin {\n",
              "    0% {\n",
              "      border-color: transparent;\n",
              "      border-bottom-color: var(--fill-color);\n",
              "      border-left-color: var(--fill-color);\n",
              "    }\n",
              "    20% {\n",
              "      border-color: transparent;\n",
              "      border-left-color: var(--fill-color);\n",
              "      border-top-color: var(--fill-color);\n",
              "    }\n",
              "    30% {\n",
              "      border-color: transparent;\n",
              "      border-left-color: var(--fill-color);\n",
              "      border-top-color: var(--fill-color);\n",
              "      border-right-color: var(--fill-color);\n",
              "    }\n",
              "    40% {\n",
              "      border-color: transparent;\n",
              "      border-right-color: var(--fill-color);\n",
              "      border-top-color: var(--fill-color);\n",
              "    }\n",
              "    60% {\n",
              "      border-color: transparent;\n",
              "      border-right-color: var(--fill-color);\n",
              "    }\n",
              "    80% {\n",
              "      border-color: transparent;\n",
              "      border-right-color: var(--fill-color);\n",
              "      border-bottom-color: var(--fill-color);\n",
              "    }\n",
              "    90% {\n",
              "      border-color: transparent;\n",
              "      border-bottom-color: var(--fill-color);\n",
              "    }\n",
              "  }\n",
              "</style>\n",
              "\n",
              "      <script>\n",
              "        async function quickchart(key) {\n",
              "          const quickchartButtonEl =\n",
              "            document.querySelector('#' + key + ' button');\n",
              "          quickchartButtonEl.disabled = true;  // To prevent multiple clicks.\n",
              "          quickchartButtonEl.classList.add('colab-df-spinner');\n",
              "          try {\n",
              "            const charts = await google.colab.kernel.invokeFunction(\n",
              "                'suggestCharts', [key], {});\n",
              "          } catch (error) {\n",
              "            console.error('Error during call to suggestCharts:', error);\n",
              "          }\n",
              "          quickchartButtonEl.classList.remove('colab-df-spinner');\n",
              "          quickchartButtonEl.classList.add('colab-df-quickchart-complete');\n",
              "        }\n",
              "        (() => {\n",
              "          let quickchartButtonEl =\n",
              "            document.querySelector('#df-424c7c5d-0632-4368-a208-56a40f05aec0 button');\n",
              "          quickchartButtonEl.style.display =\n",
              "            google.colab.kernel.accessAllowed ? 'block' : 'none';\n",
              "        })();\n",
              "      </script>\n",
              "    </div>\n",
              "\n",
              "  <div id=\"id_ee3f7b01-1a01-421b-83fe-8090c61572d0\">\n",
              "    <style>\n",
              "      .colab-df-generate {\n",
              "        background-color: #E8F0FE;\n",
              "        border: none;\n",
              "        border-radius: 50%;\n",
              "        cursor: pointer;\n",
              "        display: none;\n",
              "        fill: #1967D2;\n",
              "        height: 32px;\n",
              "        padding: 0 0 0 0;\n",
              "        width: 32px;\n",
              "      }\n",
              "\n",
              "      .colab-df-generate:hover {\n",
              "        background-color: #E2EBFA;\n",
              "        box-shadow: 0px 1px 2px rgba(60, 64, 67, 0.3), 0px 1px 3px 1px rgba(60, 64, 67, 0.15);\n",
              "        fill: #174EA6;\n",
              "      }\n",
              "\n",
              "      [theme=dark] .colab-df-generate {\n",
              "        background-color: #3B4455;\n",
              "        fill: #D2E3FC;\n",
              "      }\n",
              "\n",
              "      [theme=dark] .colab-df-generate:hover {\n",
              "        background-color: #434B5C;\n",
              "        box-shadow: 0px 1px 3px 1px rgba(0, 0, 0, 0.15);\n",
              "        filter: drop-shadow(0px 1px 2px rgba(0, 0, 0, 0.3));\n",
              "        fill: #FFFFFF;\n",
              "      }\n",
              "    </style>\n",
              "    <button class=\"colab-df-generate\" onclick=\"generateWithVariable('sliced_data')\"\n",
              "            title=\"Generate code using this dataframe.\"\n",
              "            style=\"display:none;\">\n",
              "\n",
              "  <svg xmlns=\"http://www.w3.org/2000/svg\" height=\"24px\"viewBox=\"0 0 24 24\"\n",
              "       width=\"24px\">\n",
              "    <path d=\"M7,19H8.4L18.45,9,17,7.55,7,17.6ZM5,21V16.75L18.45,3.32a2,2,0,0,1,2.83,0l1.4,1.43a1.91,1.91,0,0,1,.58,1.4,1.91,1.91,0,0,1-.58,1.4L9.25,21ZM18.45,9,17,7.55Zm-12,3A5.31,5.31,0,0,0,4.9,8.1,5.31,5.31,0,0,0,1,6.5,5.31,5.31,0,0,0,4.9,4.9,5.31,5.31,0,0,0,6.5,1,5.31,5.31,0,0,0,8.1,4.9,5.31,5.31,0,0,0,12,6.5,5.46,5.46,0,0,0,6.5,12Z\"/>\n",
              "  </svg>\n",
              "    </button>\n",
              "    <script>\n",
              "      (() => {\n",
              "      const buttonEl =\n",
              "        document.querySelector('#id_ee3f7b01-1a01-421b-83fe-8090c61572d0 button.colab-df-generate');\n",
              "      buttonEl.style.display =\n",
              "        google.colab.kernel.accessAllowed ? 'block' : 'none';\n",
              "\n",
              "      buttonEl.onclick = () => {\n",
              "        google.colab.notebook.generateWithVariable('sliced_data');\n",
              "      }\n",
              "      })();\n",
              "    </script>\n",
              "  </div>\n",
              "\n",
              "    </div>\n",
              "  </div>\n"
            ],
            "application/vnd.google.colaboratory.intrinsic+json": {
              "type": "dataframe",
              "variable_name": "sliced_data",
              "summary": "{\n  \"name\": \"sliced_data\",\n  \"rows\": 20,\n  \"fields\": [\n    {\n      \"column\": \"Longitude\",\n      \"properties\": {\n        \"dtype\": \"number\",\n        \"std\": 143.01498741730876,\n        \"min\": -179.5898,\n        \"max\": 178.568,\n        \"num_unique_values\": 20,\n        \"samples\": [\n          102.503,\n          148.87,\n          143.706999999999\n        ],\n        \"semantic_type\": \"\",\n        \"description\": \"\"\n      }\n    },\n    {\n      \"column\": \"Magnitude\",\n      \"properties\": {\n        \"dtype\": \"number\",\n        \"std\": 0.3572924498738283,\n        \"min\": 6.0,\n        \"max\": 7.5,\n        \"num_unique_values\": 7,\n        \"samples\": [\n          7.5,\n          6.2,\n          6.4\n        ],\n        \"semantic_type\": \"\",\n        \"description\": \"\"\n      }\n    },\n    {\n      \"column\": \"MagType\",\n      \"properties\": {\n        \"dtype\": \"category\",\n        \"num_unique_values\": 3,\n        \"samples\": [\n          \"Ms\",\n          \"Mb\",\n          \"ML\"\n        ],\n        \"semantic_type\": \"\",\n        \"description\": \"\"\n      }\n    },\n    {\n      \"column\": \"NbStations\",\n      \"properties\": {\n        \"dtype\": \"number\",\n        \"std\": 54.55511457522374,\n        \"min\": 0.0,\n        \"max\": 199.0,\n        \"num_unique_values\": 15,\n        \"samples\": [\n          94.0,\n          82.0,\n          90.0\n        ],\n        \"semantic_type\": \"\",\n        \"description\": \"\"\n      }\n    },\n    {\n      \"column\": \"EventID\",\n      \"properties\": {\n        \"dtype\": \"number\",\n        \"std\": 8370.742699028166,\n        \"min\": 1970010440.0,\n        \"max\": 1970031540.0,\n        \"num_unique_values\": 15,\n        \"samples\": [\n          1970020640.0,\n          1970030440.0,\n          1970010440.0\n        ],\n        \"semantic_type\": \"\",\n        \"description\": \"\"\n      }\n    }\n  ]\n}"
            }
          },
          "metadata": {},
          "execution_count": 20
        }
      ]
    },
    {
      "cell_type": "markdown",
      "source": [
        "#6- Display the row numbers where last values are equal to 4.5 or higher.\n",
        "\n"
      ],
      "metadata": {
        "id": "dUZueGkZyqcd"
      }
    },
    {
      "cell_type": "code",
      "source": [
        "row_indices = np.where(new_array[:, -1] >= 4.5)[0]\n",
        "print(row_indices)"
      ],
      "metadata": {
        "id": "BTERVPpk04E-",
        "colab": {
          "base_uri": "https://localhost:8080/"
        },
        "outputId": "dcd587f5-1286-40d9-f8bd-9c4e48db6d5d"
      },
      "execution_count": 21,
      "outputs": [
        {
          "output_type": "stream",
          "name": "stdout",
          "text": [
            "[ 0  1  2  3  5  6  7  8  9 10 11 12 15 16 17 19]\n"
          ]
        },
        {
          "output_type": "stream",
          "name": "stderr",
          "text": [
            "<ipython-input-21-1ce00444b75f>:1: RuntimeWarning: invalid value encountered in greater_equal\n",
            "  row_indices = np.where(new_array[:, -1] >= 4.5)[0]\n"
          ]
        }
      ]
    },
    {
      "cell_type": "code",
      "source": [
        "indexin_pands = sliced_data.index[sliced_data.iloc[:, -1] >= 4.5]\n",
        "print(list(indexin_pands))"
      ],
      "metadata": {
        "colab": {
          "base_uri": "https://localhost:8080/"
        },
        "id": "-C2sNMXqNWzh",
        "outputId": "f299e900-629d-4bfa-ca03-9b89ea390b6e"
      },
      "execution_count": 22,
      "outputs": [
        {
          "output_type": "stream",
          "name": "stdout",
          "text": [
            "[0, 1, 2, 3, 5, 6, 7, 8, 9, 10, 11, 12, 15, 16, 17, 19]\n"
          ]
        }
      ]
    },
    {
      "cell_type": "markdown",
      "source": [
        "#7- Assign 1 to first row.\n",
        "\n"
      ],
      "metadata": {
        "id": "17kSVCACytJK"
      }
    },
    {
      "cell_type": "code",
      "source": [
        "new_array[0, :] = 1\n",
        "new_array"
      ],
      "metadata": {
        "colab": {
          "base_uri": "https://localhost:8080/"
        },
        "collapsed": true,
        "id": "xiDUHxJCQVRi",
        "outputId": "89d40163-6ae4-4393-8fb1-e3409ad77be0"
      },
      "execution_count": 23,
      "outputs": [
        {
          "output_type": "execute_result",
          "data": {
            "text/plain": [
              "array([[1, 1, 1, 1, 1],\n",
              "       [151.458, 6.2, 'Ms', 85.0, 1970010640.0],\n",
              "       [178.568, 6.1, 'Mb', 59.0, 1970010840.0],\n",
              "       [126.736999999999, 6.1, 'Mb', 91.0, 1970011040.0],\n",
              "       [-152.66, 6.0, 'ML', 0.0, nan],\n",
              "       [-177.348999999999, 6.5, 'Mb', 175.0, 1970012040.0],\n",
              "       [142.966, 6.4, 'Ms', 199.0, 1970012040.0],\n",
              "       [-104.298, 6.6, 'Ms', 140.0, 1970012140.0],\n",
              "       [166.37, 6.4, 'Ms', 91.0, 1970012640.0],\n",
              "       [-99.48399999999991, 6.5, 'Ms', 100.0, 1970020440.0],\n",
              "       [122.117, 6.6, 'Ms', 94.0, 1970020540.0],\n",
              "       [100.775, 6.1, 'Ms', 57.0, 1970020640.0],\n",
              "       [103.031, 6.0, 'Ms', 94.0, 1970022440.0],\n",
              "       [-179.5898, 6.0, 'ML', 0.0, nan],\n",
              "       [-175.039999999999, 6.1, 'ML', 0.0, nan],\n",
              "       [143.706999999999, 6.2, 'Ms', 82.0, 1970030440.0],\n",
              "       [168.603, 6.5, 'Ms', 61.0, 1970030940.0],\n",
              "       [148.87, 6.0, 'Mb', 65.0, 1970031040.0],\n",
              "       [-153.97, 6.5, 'ML', 0.0, nan],\n",
              "       [-69.49899999999991, 6.0, 'Mb', 118.0, 1970031540.0]], dtype=object)"
            ]
          },
          "metadata": {},
          "execution_count": 23
        }
      ]
    },
    {
      "cell_type": "markdown",
      "source": [
        "#8- Save the final state of the array to disk. You are going to use this in the next assignment.\n",
        "\n"
      ],
      "metadata": {
        "id": "qvBKTrJsyu8j"
      }
    },
    {
      "cell_type": "code",
      "source": [
        " np.save(\"final_array.npy\", new_array)\n",
        ""
      ],
      "metadata": {
        "id": "MGtUwa6xSSpT"
      },
      "execution_count": 39,
      "outputs": []
    },
    {
      "cell_type": "markdown",
      "source": [
        "#9- Load the array you saved in the previous lesson from the disk.\n",
        "\n"
      ],
      "metadata": {
        "id": "cP8cF9ljywwb"
      }
    },
    {
      "cell_type": "code",
      "source": [
        "x_array = np.load(\"final_array.npy\", allow_pickle=True)\n",
        "x_array"
      ],
      "metadata": {
        "colab": {
          "base_uri": "https://localhost:8080/"
        },
        "id": "tr_TpoDUTXAB",
        "outputId": "b3c2aa5e-d4ae-48fa-f3ec-e74cc5d9bf89"
      },
      "execution_count": 40,
      "outputs": [
        {
          "output_type": "execute_result",
          "data": {
            "text/plain": [
              "array([[1, 1, 1, 1, 1],\n",
              "       [151.458, 6.2, 'Ms', 85.0, 1970010640.0],\n",
              "       [178.568, 6.1, 'Mb', 59.0, 1970010840.0],\n",
              "       [126.736999999999, 6.1, 'Mb', 91.0, 1970011040.0],\n",
              "       [-152.66, 6.0, 'ML', 0.0, nan],\n",
              "       [-177.348999999999, 6.5, 'Mb', 175.0, 1970012040.0],\n",
              "       [142.966, 6.4, 'Ms', 199.0, 1970012040.0],\n",
              "       [-104.298, 6.6, 'Ms', 140.0, 1970012140.0],\n",
              "       [166.37, 6.4, 'Ms', 91.0, 1970012640.0],\n",
              "       [-99.48399999999991, 6.5, 'Ms', 100.0, 1970020440.0],\n",
              "       [122.117, 6.6, 'Ms', 94.0, 1970020540.0],\n",
              "       [100.775, 6.1, 'Ms', 57.0, 1970020640.0],\n",
              "       [103.031, 6.0, 'Ms', 94.0, 1970022440.0],\n",
              "       [-179.5898, 6.0, 'ML', 0.0, nan],\n",
              "       [-175.039999999999, 6.1, 'ML', 0.0, nan],\n",
              "       [143.706999999999, 6.2, 'Ms', 82.0, 1970030440.0],\n",
              "       [168.603, 6.5, 'Ms', 61.0, 1970030940.0],\n",
              "       [148.87, 6.0, 'Mb', 65.0, 1970031040.0],\n",
              "       [-153.97, 6.5, 'ML', 0.0, nan],\n",
              "       [-69.49899999999991, 6.0, 'Mb', 118.0, 1970031540.0]], dtype=object)"
            ]
          },
          "metadata": {},
          "execution_count": 40
        }
      ]
    },
    {
      "cell_type": "markdown",
      "source": [
        "#10- Display the mean and the standard deviation for each column.\n",
        "\n"
      ],
      "metadata": {
        "id": "S3D97nDIyyT8"
      }
    },
    {
      "cell_type": "code",
      "source": [
        "import numpy as np\n",
        "def to_int(a):\n",
        "    try:\n",
        "        return int(a)\n",
        "    except:\n",
        "        return np.random.uniform(1, 10)\n",
        "vectorized_func = np.vectorize(to_int)\n",
        "array_clean = vectorized_func(x_array)\n",
        "print(array_clean)"
      ],
      "metadata": {
        "colab": {
          "base_uri": "https://localhost:8080/"
        },
        "id": "_L_bNn3VZccv",
        "outputId": "2a752e2f-6682-46fc-fd24-cc4b18e1cdfc"
      },
      "execution_count": 41,
      "outputs": [
        {
          "output_type": "stream",
          "name": "stdout",
          "text": [
            "[[         1          1          1          1          1]\n",
            " [       151          6          8         85 1970010640]\n",
            " [       178          6          7         59 1970010840]\n",
            " [       126          6          4         91 1970011040]\n",
            " [      -152          6          2          0          5]\n",
            " [      -177          6          2        175 1970012040]\n",
            " [       142          6          1        199 1970012040]\n",
            " [      -104          6          5        140 1970012140]\n",
            " [       166          6          8         91 1970012640]\n",
            " [       -99          6          7        100 1970020440]\n",
            " [       122          6          5         94 1970020540]\n",
            " [       100          6          5         57 1970020640]\n",
            " [       103          6          3         94 1970022440]\n",
            " [      -179          6          9          0          4]\n",
            " [      -175          6          9          0          3]\n",
            " [       143          6          6         82 1970030440]\n",
            " [       168          6          4         61 1970030940]\n",
            " [       148          6          5         65 1970031040]\n",
            " [      -153          6          8          0          9]\n",
            " [       -69          6          1        118 1970031540]]\n"
          ]
        }
      ]
    },
    {
      "cell_type": "code",
      "source": [
        "C_means = np.mean(array_clean, axis=0)\n",
        "C_stds = np.std(array_clean, axis=0)\n",
        "print(C_means)\n",
        "print(C_stds)"
      ],
      "metadata": {
        "colab": {
          "base_uri": "https://localhost:8080/"
        },
        "id": "h_qI3aOwX5cf",
        "outputId": "81a20e77-0f24-44e3-9021-7ef99ebb3cea"
      },
      "execution_count": 46,
      "outputs": [
        {
          "output_type": "stream",
          "name": "stdout",
          "text": [
            "[2.20000000e+01 5.75000000e+00 5.00000000e+00 7.56000000e+01\n",
            " 1.47751447e+09]\n",
            "[1.37905402e+02 1.08972474e+00 2.64575131e+00 5.58134392e+01\n",
            " 8.53043375e+08]\n"
          ]
        }
      ]
    },
    {
      "cell_type": "markdown",
      "source": [
        "#11- Subtract 1, 25, 25, 10, 4 from columns in order. (Remember it can be dobe in one line of code.)\n",
        "\n"
      ],
      "metadata": {
        "id": "pqvK7zWpyz9E"
      }
    },
    {
      "cell_type": "code",
      "source": [
        "values_to_substract = np.array([1, 25, 25, 10, 4])\n",
        "result = array_clean.reshape(20,5) - values_to_substract\n",
        "result"
      ],
      "metadata": {
        "colab": {
          "base_uri": "https://localhost:8080/"
        },
        "id": "tV37mrgAyg9x",
        "outputId": "0ea18ada-4671-4615-84d1-c2109959a8df"
      },
      "execution_count": 47,
      "outputs": [
        {
          "output_type": "execute_result",
          "data": {
            "text/plain": [
              "array([[         0,        -24,        -24,         -9,         -3],\n",
              "       [       150,        -19,        -17,         75, 1970010636],\n",
              "       [       177,        -19,        -18,         49, 1970010836],\n",
              "       [       125,        -19,        -21,         81, 1970011036],\n",
              "       [      -153,        -19,        -23,        -10,          1],\n",
              "       [      -178,        -19,        -23,        165, 1970012036],\n",
              "       [       141,        -19,        -24,        189, 1970012036],\n",
              "       [      -105,        -19,        -20,        130, 1970012136],\n",
              "       [       165,        -19,        -17,         81, 1970012636],\n",
              "       [      -100,        -19,        -18,         90, 1970020436],\n",
              "       [       121,        -19,        -20,         84, 1970020536],\n",
              "       [        99,        -19,        -20,         47, 1970020636],\n",
              "       [       102,        -19,        -22,         84, 1970022436],\n",
              "       [      -180,        -19,        -16,        -10,          0],\n",
              "       [      -176,        -19,        -16,        -10,         -1],\n",
              "       [       142,        -19,        -19,         72, 1970030436],\n",
              "       [       167,        -19,        -21,         51, 1970030936],\n",
              "       [       147,        -19,        -20,         55, 1970031036],\n",
              "       [      -154,        -19,        -17,        -10,          5],\n",
              "       [       -70,        -19,        -24,        108, 1970031536]])"
            ]
          },
          "metadata": {},
          "execution_count": 47
        }
      ]
    },
    {
      "cell_type": "markdown",
      "source": [
        "#12- Multiply each element by 2. (Remember it can be done in one line of code.)"
      ],
      "metadata": {
        "id": "xv_H-220y1ey"
      }
    },
    {
      "cell_type": "code",
      "source": [
        "array_clean = array_clean * 2\n",
        "array_clean"
      ],
      "metadata": {
        "colab": {
          "base_uri": "https://localhost:8080/"
        },
        "id": "4NdBNRvy8LHH",
        "outputId": "723b9516-9580-4256-f949-484d9b573128"
      },
      "execution_count": 48,
      "outputs": [
        {
          "output_type": "execute_result",
          "data": {
            "text/plain": [
              "array([[         2,          2,          2,          2,          2],\n",
              "       [       302,         12,         16,        170, 3940021280],\n",
              "       [       356,         12,         14,        118, 3940021680],\n",
              "       [       252,         12,          8,        182, 3940022080],\n",
              "       [      -304,         12,          4,          0,         10],\n",
              "       [      -354,         12,          4,        350, 3940024080],\n",
              "       [       284,         12,          2,        398, 3940024080],\n",
              "       [      -208,         12,         10,        280, 3940024280],\n",
              "       [       332,         12,         16,        182, 3940025280],\n",
              "       [      -198,         12,         14,        200, 3940040880],\n",
              "       [       244,         12,         10,        188, 3940041080],\n",
              "       [       200,         12,         10,        114, 3940041280],\n",
              "       [       206,         12,          6,        188, 3940044880],\n",
              "       [      -358,         12,         18,          0,          8],\n",
              "       [      -350,         12,         18,          0,          6],\n",
              "       [       286,         12,         12,        164, 3940060880],\n",
              "       [       336,         12,          8,        122, 3940061880],\n",
              "       [       296,         12,         10,        130, 3940062080],\n",
              "       [      -306,         12,         16,          0,         18],\n",
              "       [      -138,         12,          2,        236, 3940063080]])"
            ]
          },
          "metadata": {},
          "execution_count": 48
        }
      ]
    }
  ]
}