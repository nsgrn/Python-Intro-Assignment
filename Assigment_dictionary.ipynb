{
  "nbformat": 4,
  "nbformat_minor": 0,
  "metadata": {
    "colab": {
      "provenance": [],
      "authorship_tag": "ABX9TyNsyXj3sSMFo2Q3ApaE3zdg",
      "include_colab_link": true
    },
    "kernelspec": {
      "name": "python3",
      "display_name": "Python 3"
    },
    "language_info": {
      "name": "python"
    }
  },
  "cells": [
    {
      "cell_type": "markdown",
      "metadata": {
        "id": "view-in-github",
        "colab_type": "text"
      },
      "source": [
        "<a href=\"https://colab.research.google.com/github/nsgrn/Python-Intro-Assignment/blob/main/Assigment_dictionary.ipynb\" target=\"_parent\"><img src=\"https://colab.research.google.com/assets/colab-badge.svg\" alt=\"Open In Colab\"/></a>"
      ]
    },
    {
      "cell_type": "markdown",
      "source": [
        "#- Create a dictionary with 7 days.\n",
        "Ask the user to choose 2 different days by listing the (e.g. \"12\" for Monday and Tuesday). Delete the user-selected days from the dictionary and print the remaining 5 days on the screen."
      ],
      "metadata": {
        "id": "BxfPCg95q_lk"
      }
    },
    {
      "cell_type": "code",
      "source": [
        "days = {'Monday': '1', 'Tuesday': '2', 'Wednesday': '3', 'Thursday': '4', 'Friday': '5', 'Saturday': '6', 'Sunday': '7'}\n",
        "days.pop(input('Choose two different days, Day1: '))\n",
        "days.pop(input('Day2: '))\n",
        "print(days)\n",
        "\n"
      ],
      "metadata": {
        "colab": {
          "base_uri": "https://localhost:8080/"
        },
        "id": "6rUGphaLrGtU",
        "outputId": "a4493dec-4afb-49c4-e24e-0a0215593cc8"
      },
      "execution_count": 59,
      "outputs": [
        {
          "output_type": "stream",
          "name": "stdout",
          "text": [
            "Choose two different days, Day1: Monday\n",
            "Day2: Tuesday\n",
            "{'Wednesday': '3', 'Thursday': '4', 'Friday': '5', 'Saturday': '6', 'Sunday': '7'}\n"
          ]
        }
      ]
    },
    {
      "cell_type": "markdown",
      "source": [
        "#2- Create a dictionary with the following personnel. Use names as keys.\n",
        "(Michael (age: 20)\n",
        "(Linda (age: 30)"
      ],
      "metadata": {
        "id": "bgslQupcAypN"
      }
    },
    {
      "cell_type": "code",
      "source": [
        "dict_personnel = {\"Michael\": {\"age\":20}, \"Linda\": {\"age\":30}}\n",
        "print(personnel)"
      ],
      "metadata": {
        "colab": {
          "base_uri": "https://localhost:8080/"
        },
        "id": "N7PT-0RKOAqx",
        "outputId": "7de8684c-146d-4f21-f5d0-bda2883f704b"
      },
      "execution_count": 98,
      "outputs": [
        {
          "output_type": "stream",
          "name": "stdout",
          "text": [
            "{'Michael': [{'1stkid': 'Karen', 'details': {'age': 12, 'gender': 'female'}}, {'2nd_kid': 'Greg', 'details': {'age': 7, 'gender': 'male'}}], 'Linda': [{'kid': 'Susan', 'details': {'age': 6, 'gender': 'female'}}]}\n"
          ]
        }
      ]
    },
    {
      "cell_type": "markdown",
      "source": [
        "#3- Add child information to Michael and Linda.\n",
        "Michael has two children (Karen (age : 12, female) and Greg (age : 7, male) and Linda has one child (Susan (age: 6, female))"
      ],
      "metadata": {
        "id": "FDOLtcpDBPus"
      }
    },
    {
      "cell_type": "code",
      "source": [
        "dict_personnel[\"Linda\"][\"children\"]= {\"Susan\": {\"age\": \"6, female\"}}\n",
        "dict_personnel[\"Michael\"][\"children\"]= {\"Karen\": {\"age\": \"12, female\"}, \"Greg\": {\"age\": \"7, male\"}}\n",
        "print(dict_personnel)"
      ],
      "metadata": {
        "colab": {
          "base_uri": "https://localhost:8080/"
        },
        "id": "26y-aTxFBStv",
        "outputId": "ffb5da4f-da61-4dfa-e60d-a012e15b1dd5"
      },
      "execution_count": 105,
      "outputs": [
        {
          "output_type": "stream",
          "name": "stdout",
          "text": [
            "{'Michael': {'age': 20, 'children': {'Karen': {'age': '12, female'}, 'Greg': {'age': '7, male'}}}, 'Linda': {'age': 30, 'children': {'Susan': {'age': '6, female'}}}}\n"
          ]
        }
      ]
    },
    {
      "cell_type": "markdown",
      "source": [
        "#4- Print the names of Michael's children in a list."
      ],
      "metadata": {
        "id": "uwqoPpXHBzJY"
      }
    },
    {
      "cell_type": "code",
      "source": [
        "dict_personnel[\"Michael\"][\"children\"]"
      ],
      "metadata": {
        "colab": {
          "base_uri": "https://localhost:8080/"
        },
        "id": "XnYZI7kKB1DN",
        "outputId": "e18593ad-9151-4b70-ddba-3c3382946daa"
      },
      "execution_count": 107,
      "outputs": [
        {
          "output_type": "execute_result",
          "data": {
            "text/plain": [
              "{'Karen': {'age': '12, female'}, 'Greg': {'age': '7, male'}}"
            ]
          },
          "metadata": {},
          "execution_count": 107
        }
      ]
    },
    {
      "cell_type": "code",
      "source": [
        "dict_personnel[\"Michael\"][\"children\"].keys()"
      ],
      "metadata": {
        "colab": {
          "base_uri": "https://localhost:8080/"
        },
        "id": "coORrFw5R24q",
        "outputId": "b47f1914-64b1-43dd-fa14-583c3018911f"
      },
      "execution_count": 108,
      "outputs": [
        {
          "output_type": "execute_result",
          "data": {
            "text/plain": [
              "dict_keys(['Karen', 'Greg'])"
            ]
          },
          "metadata": {},
          "execution_count": 108
        }
      ]
    },
    {
      "cell_type": "code",
      "source": [],
      "metadata": {
        "id": "t4zcv7BzSGrf"
      },
      "execution_count": null,
      "outputs": []
    }
  ]
}