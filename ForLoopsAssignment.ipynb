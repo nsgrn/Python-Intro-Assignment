{
  "nbformat": 4,
  "nbformat_minor": 0,
  "metadata": {
    "colab": {
      "provenance": [],
      "authorship_tag": "ABX9TyMXCy98vnaesHrg6JDc1OFw",
      "include_colab_link": true
    },
    "kernelspec": {
      "name": "python3",
      "display_name": "Python 3"
    },
    "language_info": {
      "name": "python"
    }
  },
  "cells": [
    {
      "cell_type": "markdown",
      "metadata": {
        "id": "view-in-github",
        "colab_type": "text"
      },
      "source": [
        "<a href=\"https://colab.research.google.com/github/nsgrn/Python-Intro-Assignment/blob/main/ForLoopsAssignment.ipynb\" target=\"_parent\"><img src=\"https://colab.research.google.com/assets/colab-badge.svg\" alt=\"Open In Colab\"/></a>"
      ]
    },
    {
      "cell_type": "markdown",
      "source": [
        "#1. Do the following to create a program that simulates how websites ensure that everyone has a unique username.\n",
        "Make a list of five or more usernames called current_users.\n",
        "\n",
        "􏰀* Make another list of five usernames called new_users. Make sure one or two of the new usernames are also in the current_users list.\n",
        "\n",
        "􏰀* Loop through the new_users list to see if each new username has already been used. If it has, print a message that the person will need to enter a new username. If a username has not been used, print a message saying that the username is available.\n",
        "\n",
        "􏰀* Make sure your comparison is case insensitive. If 'John' has been used, 'JOHN' should not be accepted."
      ],
      "metadata": {
        "id": "tLcwttAoh4kG"
      }
    },
    {
      "cell_type": "code",
      "execution_count": null,
      "metadata": {
        "colab": {
          "base_uri": "https://localhost:8080/"
        },
        "id": "38C0P_Dfh1h3",
        "outputId": "12a043d2-0cd5-45eb-983e-823cf0720622"
      },
      "outputs": [
        {
          "output_type": "stream",
          "name": "stdout",
          "text": [
            "enter a user_name: sMith\n",
            "the person will need to enter a new username\n"
          ]
        }
      ],
      "source": [
        "name = input(\"enter a user_name: \")\n",
        "name1 = name.casefold()\n",
        "name2 = name.title()\n",
        "name3 = name.capitalize()\n",
        "name4 = name.upper()\n",
        "name5 = name.lower()\n",
        "current_users = [\"John\", \"enes\", \"Aaron\", \"Smith\", \"jenny\"]\n",
        "if name1 or name2 or name3 or name4 or name5 in current_users:\n",
        "  print(\"the person will need to enter a new username\")\n",
        "else:\n",
        "  print(\"the username is available\")"
      ]
    },
    {
      "cell_type": "code",
      "source": [
        "name = input(\"enter a user_name: \")\n",
        "name = name.casefold()\n",
        "current_users = [\"John\", \"enes\", \"Aaron\", \"Smith\", \"jenny\"]\n",
        "new_users = [\"Ali\", \"Veli\", \"Jenny\", \"Nancy\", \"Enes\"]\n",
        "if name in current_users:\n",
        "  if name in new_users:\n",
        "    print(\"the person will need to enter a new username\")\n",
        "else:\n",
        "  print(\"the username is available\")"
      ],
      "metadata": {
        "colab": {
          "base_uri": "https://localhost:8080/"
        },
        "id": "R14Ii6rpYyUX",
        "outputId": "cc38c234-e690-44e2-8d37-c53598928e81"
      },
      "execution_count": null,
      "outputs": [
        {
          "output_type": "stream",
          "name": "stdout",
          "text": [
            "enter a user_name: john\n",
            "the username is available\n"
          ]
        }
      ]
    },
    {
      "cell_type": "markdown",
      "source": [
        "#2. Color probability\n",
        "You're playing a game with a friend involving a bag of marbles. In the bag are ten marbles:\n",
        "\n",
        "1 smooth red marble\n",
        "\n",
        "4 bumpy red marbles\n",
        "\n",
        "2 bumpy yellow marbles\n",
        "\n",
        "1 smooth yellow marble\n",
        "\n",
        "1 bumpy green marble\n",
        "\n",
        "1 smooth green marble\n",
        "\n",
        "You can see that the probability of picking a smooth red marble from the bag is 1 / 10 or 0.10 and the probability of picking a bumpy yellow marble is 2 / 10 or 0.20.\n",
        "\n",
        "The game works like this: your friend puts her hand in the bag, chooses a marble (without looking at it) and tells you whether it's bumpy or smooth. Then you have to guess which color it is before she pulls it out and reveals whether you're correct or not.\n",
        "\n",
        "You know that the information about whether the marble is bumpy or smooth changes the probability of what color it is, and you want some help with your guesses.\n",
        "\n",
        "Write a function color_probability that takes two arguments: a color ('red', 'yellow', or 'green') and a texture ('bumpy' or 'smooth') and returns the probability of drawing that combination as a decimal fraction accurate to two places.\n",
        "\n",
        "The probability should be a string and should discard any digits after the 100ths place. For example, 2 / 3 or 0.6666666666666666 would become the string '0.66'. Note this is different from rounding.\n",
        "\n",
        "As a complete example, color_probability('red', 'bumpy') should return the string '0.57'."
      ],
      "metadata": {
        "id": "35F2bHunffvw"
      }
    },
    {
      "cell_type": "code",
      "source": [
        "chosen_texture = input(\"enter a texture: \")\n",
        "dic_marbles = {\"smooth red\": 1, \"bumpy red\": 4, \"bumpy yellow\": 2, \"smooth yellow\": 1, \"bumpy green\": 1, \"smooth green\": 1}\n",
        "if chosen_texture == \"bumpy\" or \"smooth\":\n",
        "  chosen_color = input(\"enter a color: \")\n",
        "  if chosen_color == \"red\" or \"yellow\" or \"green\":\n",
        "    chosen_marble = chosen_texture + \" \" + chosen_color\n",
        "    color_probability = dic_marbles[chosen_marble] / sum(dic_marbles.values())\n",
        "    print(f\"{color_probability:.2f}\")"
      ],
      "metadata": {
        "colab": {
          "base_uri": "https://localhost:8080/"
        },
        "id": "4nEY71GYiwak",
        "outputId": "5214bb67-d9c1-480a-b963-4d91a4f4c372"
      },
      "execution_count": 53,
      "outputs": [
        {
          "output_type": "stream",
          "name": "stdout",
          "text": [
            "enter a texture: bumpy\n",
            "enter a color: green\n",
            "0.10\n"
          ]
        }
      ]
    },
    {
      "cell_type": "code",
      "source": [
        "chosen_texture = input(\"enter a texture: \")\n",
        "dic_marbles = {\"smooth\": {\"red\":1, \"yellow\": 1, \"green\": 1},\n",
        "               \"bumpy\": {\"red\": 4,  \"yellow\": 2, \"green\": 1}}\n",
        "if chosen_texture == \"bumpy\" or \"smooth\":\n",
        "  chosen_color = input(\"enter a color: \")\n",
        "  if chosen_color == \"red\" or \"yellow\" or \"green\":\n",
        "      color_probability = dic_marbles[chosen_texture][chosen_color] / sum(dic_marbles[chosen_texture].values())\n",
        "      print(f\"{color_probability: .2f}\")\n"
      ],
      "metadata": {
        "colab": {
          "base_uri": "https://localhost:8080/"
        },
        "id": "pXoQPrqoymzn",
        "outputId": "ebc808a6-6ba4-453c-fae0-be2387fa0990"
      },
      "execution_count": 72,
      "outputs": [
        {
          "output_type": "stream",
          "name": "stdout",
          "text": [
            "enter a texture: smooth\n",
            "enter a color: red\n",
            " 0.33\n"
          ]
        }
      ]
    },
    {
      "cell_type": "markdown",
      "source": [
        "# Write an if-elif-else chain that determines a person’s stage of life\n",
        " Set a value for the variable age, and then:\n",
        "\n",
        "􏰀* If the person is less than 2 years old, print a message that the person is a baby.\n",
        "\n",
        "*􏰀 If the person is at least 2 years old but less than 4, print a message that the person is a toddler.\n",
        "\n",
        "*􏰀 If the person is at least 4 years old but less than 13, print a message that the person is a kid.\n",
        "\n",
        "*􏰀 If the person is at least 13 years old but less than 20, print a message that the person is a teenager.\n",
        "\n",
        "*􏰀 If the person is at least 20 years old but less than 65, print a message that the person is an adult.\n",
        "\n",
        "*􏰀 If the person is age 65 or older, print a message that the person is an elder."
      ],
      "metadata": {
        "id": "oEgCs4vx82nE"
      }
    },
    {
      "cell_type": "code",
      "source": [
        "age_person = int(input(\"enter the age of the person: \"))\n",
        "if age_person < 2:\n",
        "  print(\"the person is a baby\")\n",
        "elif 2 <= age_person < 4:\n",
        "  print(\"the person is a toddler\")\n",
        "elif 4 <= age_person < 13:\n",
        "  print(\"the person is a kid\")\n",
        "elif 13 <= age_person < 20:\n",
        "  print(\"the person is a teenager\")\n",
        "elif 20 <= age_person < 65:\n",
        "  print(\"the person is an adult\")\n",
        "else:\n",
        "  print(\"the person is an elder\")"
      ],
      "metadata": {
        "colab": {
          "base_uri": "https://localhost:8080/"
        },
        "id": "KJ6iVbtJ9Cbk",
        "outputId": "86ce3575-8840-41c9-b062-64cb176b582c"
      },
      "execution_count": 78,
      "outputs": [
        {
          "output_type": "stream",
          "name": "stdout",
          "text": [
            "enter the age of the person: 67\n",
            "the person is an elder\n"
          ]
        }
      ]
    }
  ]
}