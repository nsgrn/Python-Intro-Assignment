{
  "nbformat": 4,
  "nbformat_minor": 0,
  "metadata": {
    "colab": {
      "provenance": [],
      "authorship_tag": "ABX9TyOm8d8GKnr3dhnbXPm/Zg4h",
      "include_colab_link": true
    },
    "kernelspec": {
      "name": "python3",
      "display_name": "Python 3"
    },
    "language_info": {
      "name": "python"
    }
  },
  "cells": [
    {
      "cell_type": "markdown",
      "metadata": {
        "id": "view-in-github",
        "colab_type": "text"
      },
      "source": [
        "<a href=\"https://colab.research.google.com/github/nsgrn/Python-Intro-Assignment/blob/main/List_Assign.ipynb\" target=\"_parent\"><img src=\"https://colab.research.google.com/assets/colab-badge.svg\" alt=\"Open In Colab\"/></a>"
      ]
    },
    {
      "cell_type": "markdown",
      "source": [],
      "metadata": {
        "id": "L4n0he6MY85K"
      }
    },
    {
      "cell_type": "markdown",
      "source": [
        "#1- Write a code\n",
        "to compute the sum of the two lowest numbers and the two highest numbers in the following list.\n",
        "\n",
        "my_list = [34, 56, 76, 45, 2, 12, 67, 98, 37, 54, 66]"
      ],
      "metadata": {
        "id": "2TbQu9WMY-g_"
      }
    },
    {
      "cell_type": "code",
      "source": [
        "my_list = [34, 56, 76, 45, 2, 12, 67, 98, 37, 54, 66]\n",
        "my_list.sort()\n",
        "two_lowest = my_list[0] + my_list[1]\n",
        "two_highest = my_list[-1] + my_list[-2]\n",
        "print(two_lowest + two_highest)\n",
        "\n"
      ],
      "metadata": {
        "colab": {
          "base_uri": "https://localhost:8080/"
        },
        "id": "Z1h0JxqGZJFO",
        "outputId": "f9b85b17-d521-493f-e6e6-7cafe518dd48"
      },
      "execution_count": 9,
      "outputs": [
        {
          "output_type": "stream",
          "name": "stdout",
          "text": [
            "188\n"
          ]
        }
      ]
    },
    {
      "cell_type": "markdown",
      "source": [
        "#2- The following two lists\n",
        "contain student names and scores. Write a code that gets the name from the user and prints the score of that student.\n",
        "\n",
        "names = [\"David\", \"Michael\", \"John\", \"James\", \"Greg\", \"Mark\", \"William\", \"Richard\", \"Thomas\", \"Steven\", \"Mary\", \"Susan\", \"Maria\", \"Karen\", \"Lisa\", \"Linda\", \"Donna\", \"Patricia\", \"Debra\", \"Eric\"]\n",
        "\n",
        "scores = [99, 87, 78, 86, 68, 94, 76, 97, 56, 98, 76, 87, 79, 90, 73, 93, 82, 69, 97, 98]"
      ],
      "metadata": {
        "id": "cGchwOh5bawn"
      }
    },
    {
      "cell_type": "code",
      "source": [
        "list_names = [\"David\", \"Michael\", \"John\", \"James\", \"Greg\", \"Mark\", \"William\", \"Richard\", \"Thomas\", \"Steven\", \"Mary\", \"Susan\", \"Maria\", \"Karen\", \"Lisa\", \"Linda\", \"Donna\", \"Patricia\", \"Debra\", \"Eric\"]\n",
        "list_scores = [99, 87, 78, 86, 68, 94, 76, 97, 56, 98, 76, 87, 79, 90, 73, 93, 82, 69, 97, 98]\n",
        "list_scores[list_names.index(input(\"enter_a_name: \"))]\n"
      ],
      "metadata": {
        "colab": {
          "base_uri": "https://localhost:8080/"
        },
        "id": "t46w5NZmbn1R",
        "outputId": "2cd1d8b3-8b2f-4715-f0c9-ae6efd1676b3"
      },
      "execution_count": 24,
      "outputs": [
        {
          "name": "stdout",
          "output_type": "stream",
          "text": [
            "enter_a_name: Michael\n"
          ]
        },
        {
          "output_type": "execute_result",
          "data": {
            "text/plain": [
              "87"
            ]
          },
          "metadata": {},
          "execution_count": 24
        }
      ]
    },
    {
      "cell_type": "markdown",
      "source": [
        "#3- By using the two lists above,\n",
        "what is the maximum score and how many students got that score?"
      ],
      "metadata": {
        "id": "X8ilgs3igSip"
      }
    },
    {
      "cell_type": "code",
      "source": [
        "maximum_score = max(list_scores)\n",
        "print(maximum_score)\n",
        "print(list_scores.count(maximum_score))\n"
      ],
      "metadata": {
        "colab": {
          "base_uri": "https://localhost:8080/"
        },
        "id": "Hha0WWQ9gdTn",
        "outputId": "537d2d58-d933-4b8e-d6a8-2d7ad8a5f5d2"
      },
      "execution_count": 48,
      "outputs": [
        {
          "output_type": "stream",
          "name": "stdout",
          "text": [
            "99\n",
            "1\n"
          ]
        }
      ]
    }
  ]
}