{
  "nbformat": 4,
  "nbformat_minor": 0,
  "metadata": {
    "colab": {
      "provenance": [],
      "include_colab_link": true
    },
    "kernelspec": {
      "name": "python3",
      "display_name": "Python 3"
    },
    "language_info": {
      "name": "python"
    }
  },
  "cells": [
    {
      "cell_type": "markdown",
      "metadata": {
        "id": "view-in-github",
        "colab_type": "text"
      },
      "source": [
        "<a href=\"https://colab.research.google.com/github/nsgrn/Python-Intro-Assignment/blob/main/Exercises_2_c%C3%B6z%C3%BCmleri_enes.ipynb\" target=\"_parent\"><img src=\"https://colab.research.google.com/assets/colab-badge.svg\" alt=\"Open In Colab\"/></a>"
      ]
    },
    {
      "cell_type": "markdown",
      "metadata": {
        "id": "rDqcrTlfZyJv"
      },
      "source": [
        "##**EXERCISES 2**"
      ]
    },
    {
      "cell_type": "markdown",
      "metadata": {
        "id": "NM92aG3CxfK8"
      },
      "source": [
        "**1. Try to find out if a number you get from the user is perfect.\n",
        "A number is called a \"perfect number\" if the sum of its divisors is equal to itself. For example, 6 is a perfect number. (1 + 2 + 3 = 6)**"
      ]
    },
    {
      "cell_type": "code",
      "source": [
        "x = int(input(\"enter a number: \"))\n",
        "total_sum = 0\n",
        "for i in range(1, x):\n",
        "  if x % i == 0:\n",
        "    total_sum += i\n",
        "def perfect_number(x):\n",
        "  if x == total_sum:\n",
        "    print(\"Perfect\")\n",
        "  else:\n",
        "    print(\"Not\")\n",
        "perfect_number(x)\n"
      ],
      "metadata": {
        "colab": {
          "base_uri": "https://localhost:8080/"
        },
        "id": "yocQd6yjZ3Wt",
        "outputId": "42f1ea77-f17c-4777-9f60-7e65034f9a9d"
      },
      "execution_count": null,
      "outputs": [
        {
          "output_type": "stream",
          "name": "stdout",
          "text": [
            "enter a number: 6\n",
            "Perfect\n"
          ]
        }
      ]
    },
    {
      "cell_type": "code",
      "source": [
        "a = int(input(\"enter a number: \"))\n",
        "list_of_divisors = [i for i in range(1, a) if a % i == 0]\n",
        "if a == sum(list_of_divisors):\n",
        "  print(\"YES\")\n",
        "else:\n",
        "  print(\"NOT\")"
      ],
      "metadata": {
        "colab": {
          "base_uri": "https://localhost:8080/"
        },
        "id": "7gz4NWu4iIiu",
        "outputId": "0486f24b-6875-4e7d-ed39-667520d6cddd"
      },
      "execution_count": null,
      "outputs": [
        {
          "output_type": "stream",
          "name": "stdout",
          "text": [
            "enter a number: 6\n",
            "YES\n"
          ]
        }
      ]
    },
    {
      "cell_type": "markdown",
      "metadata": {
        "id": "VouYV-hbycmL"
      },
      "source": [
        "**2. İnteger formatında verilen sayının aralarında birer boşuk bırakarak tersini yazdıran program**"
      ]
    },
    {
      "cell_type": "code",
      "metadata": {
        "id": "9k4BrWNWRbZM",
        "colab": {
          "base_uri": "https://localhost:8080/"
        },
        "outputId": "7bdfdea3-d829-4b94-de22-6af07b63790c"
      },
      "source": [
        "x = int(input(\"enter a number: \"))\n",
        "list_1 = list(str(x))\n",
        "print(list_1.reverse())#bu niçin None sonucunu verdi?"
      ],
      "execution_count": null,
      "outputs": [
        {
          "output_type": "stream",
          "name": "stdout",
          "text": [
            "enter a number: 356\n",
            "None\n"
          ]
        }
      ]
    },
    {
      "cell_type": "code",
      "metadata": {
        "id": "f8Pwn_6kSrx_",
        "colab": {
          "base_uri": "https://localhost:8080/"
        },
        "outputId": "6729dc37-9af4-483c-bc2a-8e82177e4e78"
      },
      "source": [
        "x = int(input(\"enter a number: \"))\n",
        "list_1 = list(str(x))\n",
        "reverse_list = list_1.reverse()\n",
        "print(list_1)#ben ilkini yazdır dedim ama bu ikinciyi yazdırdı gibi, neden?"
      ],
      "execution_count": null,
      "outputs": [
        {
          "output_type": "stream",
          "name": "stdout",
          "text": [
            "enter a number: 267\n",
            "['7', '6', '2']\n"
          ]
        }
      ]
    },
    {
      "cell_type": "code",
      "source": [
        "x = int(input(\"enter a number: \"))\n",
        "list_1 = list(str(x))\n",
        "list_1.reverse()\n",
        "for i in list_1:\n",
        "  print(i, end=\" \")"
      ],
      "metadata": {
        "colab": {
          "base_uri": "https://localhost:8080/"
        },
        "id": "3PMin470tnKF",
        "outputId": "1a26e69c-4eb9-447b-b249-2afc0113e26e"
      },
      "execution_count": null,
      "outputs": [
        {
          "output_type": "stream",
          "name": "stdout",
          "text": [
            "enter a number: 256\n",
            "6 5 2 "
          ]
        }
      ]
    },
    {
      "cell_type": "code",
      "source": [
        "num = input(\"please enter a number : \")\n",
        "reverse_list = [i for i in (list(num)[::-1])]\n",
        "for i in reverse_list:\n",
        "  print(i, end = \" \")"
      ],
      "metadata": {
        "id": "2XQQFXRwu7zd"
      },
      "execution_count": null,
      "outputs": []
    },
    {
      "cell_type": "code",
      "source": [
        "x = 12345678\n",
        "a = list(str(x)[0::-2])#Negative increment da default value 0 olmuyor aslında değil mi? son karakter oluyor. Negative increment işlem süreci nasıl?\n",
        "print(a)"
      ],
      "metadata": {
        "colab": {
          "base_uri": "https://localhost:8080/"
        },
        "id": "mrds8gRHvfJ_",
        "outputId": "0597db26-38d8-4ec8-8275-5f6d76a25d99"
      },
      "execution_count": null,
      "outputs": [
        {
          "output_type": "stream",
          "name": "stdout",
          "text": [
            "['1']\n"
          ]
        }
      ]
    },
    {
      "cell_type": "markdown",
      "metadata": {
        "id": "bmIvZsw5yjZ8"
      },
      "source": [
        "**3. Kullanıcıdan alınan iki sayının ortak bölenlerini yazdıran bir program ve bir fonksiyon yazınız**"
      ]
    },
    {
      "cell_type": "code",
      "metadata": {
        "colab": {
          "base_uri": "https://localhost:8080/"
        },
        "id": "iGBxVBYJSTXv",
        "outputId": "61453747-024f-46a8-adf8-a2f6d10b9176"
      },
      "source": [
        "num1 = int(input(\"Enter first number: \"))\n",
        "num2 = int(input(\"Enter second number: \"))\n",
        "for i in range(1, num1+1):\n",
        "  for j in range(1, num2+1):\n",
        "    if num1 % i == 0 and num2 % j == 0 and i==j:\n",
        "      print(i, end=\" \")\n"
      ],
      "execution_count": null,
      "outputs": [
        {
          "output_type": "stream",
          "name": "stdout",
          "text": [
            "Enter first number: 12\n",
            "Enter second number: 6\n",
            "1 2 3 6 "
          ]
        }
      ]
    },
    {
      "cell_type": "markdown",
      "metadata": {
        "id": "067T-0sOx9F4"
      },
      "source": [
        "**4. Write a Python program to compute the greatest common divisor (GCD) of two positive integers**"
      ]
    },
    {
      "cell_type": "code",
      "metadata": {
        "colab": {
          "base_uri": "https://localhost:8080/"
        },
        "id": "ML9LqC9PRboP",
        "outputId": "f3340c10-0aa7-46d5-98c1-de1f63f3951d"
      },
      "source": [
        "n1 = int(input(\"Enter first number: \"))\n",
        "n2 = int(input(\"Enter second number: \"))\n",
        "divisor_of_n1 = [i for i in range(1,n1+1) if n1%i == 0]\n",
        "common_divisors = [i for i in divisor_of_n1 if n2%i == 0]\n",
        "print(\"GCD: \", common_divisors[-1])\n",
        "least_CM = int((n1*n2)/common_divisors[-1])\n",
        "print(\"LCM: \", least_CM)"
      ],
      "execution_count": 48,
      "outputs": [
        {
          "output_type": "stream",
          "name": "stdout",
          "text": [
            "Enter first number: 12\n",
            "Enter second number: 6\n",
            "GCD:  6\n",
            "LCM:  12\n"
          ]
        }
      ]
    },
    {
      "cell_type": "markdown",
      "metadata": {
        "id": "aiLAhWnyZixA"
      },
      "source": [
        "**5. 1 den 10 a kadar çarpım tablosunu ilk önce alt alta sonra da örnekteki gibi yazdırın.**"
      ]
    },
    {
      "cell_type": "markdown",
      "metadata": {
        "id": "FFWSz2O1BaKj"
      },
      "source": [
        "![image (2).png](data:image/png;base64,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)"
      ]
    },
    {
      "cell_type": "code",
      "source": [
        "for n in range(1,11):\n",
        "  for i in range(1,11):\n",
        "    print (f\"{i} x {n} =\", i * n, end=\"|\")\n",
        "  print()"
      ],
      "metadata": {
        "colab": {
          "base_uri": "https://localhost:8080/"
        },
        "id": "k7izGYO5uvAG",
        "outputId": "c2bbe17e-2532-4770-d50c-8b5f46ecc469"
      },
      "execution_count": 105,
      "outputs": [
        {
          "output_type": "stream",
          "name": "stdout",
          "text": [
            "1 x 1 = 1|2 x 1 = 2|3 x 1 = 3|4 x 1 = 4|5 x 1 = 5|6 x 1 = 6|7 x 1 = 7|8 x 1 = 8|9 x 1 = 9|10 x 1 = 10|\n",
            "1 x 2 = 2|2 x 2 = 4|3 x 2 = 6|4 x 2 = 8|5 x 2 = 10|6 x 2 = 12|7 x 2 = 14|8 x 2 = 16|9 x 2 = 18|10 x 2 = 20|\n",
            "1 x 3 = 3|2 x 3 = 6|3 x 3 = 9|4 x 3 = 12|5 x 3 = 15|6 x 3 = 18|7 x 3 = 21|8 x 3 = 24|9 x 3 = 27|10 x 3 = 30|\n",
            "1 x 4 = 4|2 x 4 = 8|3 x 4 = 12|4 x 4 = 16|5 x 4 = 20|6 x 4 = 24|7 x 4 = 28|8 x 4 = 32|9 x 4 = 36|10 x 4 = 40|\n",
            "1 x 5 = 5|2 x 5 = 10|3 x 5 = 15|4 x 5 = 20|5 x 5 = 25|6 x 5 = 30|7 x 5 = 35|8 x 5 = 40|9 x 5 = 45|10 x 5 = 50|\n",
            "1 x 6 = 6|2 x 6 = 12|3 x 6 = 18|4 x 6 = 24|5 x 6 = 30|6 x 6 = 36|7 x 6 = 42|8 x 6 = 48|9 x 6 = 54|10 x 6 = 60|\n",
            "1 x 7 = 7|2 x 7 = 14|3 x 7 = 21|4 x 7 = 28|5 x 7 = 35|6 x 7 = 42|7 x 7 = 49|8 x 7 = 56|9 x 7 = 63|10 x 7 = 70|\n",
            "1 x 8 = 8|2 x 8 = 16|3 x 8 = 24|4 x 8 = 32|5 x 8 = 40|6 x 8 = 48|7 x 8 = 56|8 x 8 = 64|9 x 8 = 72|10 x 8 = 80|\n",
            "1 x 9 = 9|2 x 9 = 18|3 x 9 = 27|4 x 9 = 36|5 x 9 = 45|6 x 9 = 54|7 x 9 = 63|8 x 9 = 72|9 x 9 = 81|10 x 9 = 90|\n",
            "1 x 10 = 10|2 x 10 = 20|3 x 10 = 30|4 x 10 = 40|5 x 10 = 50|6 x 10 = 60|7 x 10 = 70|8 x 10 = 80|9 x 10 = 90|10 x 10 = 100|\n"
          ]
        }
      ]
    },
    {
      "cell_type": "code",
      "source": [
        "for i in range(1,11):\n",
        "  for j in range(1,11):\n",
        "    if i*j == 100:\n",
        "      print(f\" {j} x {i} ={i*j} |\", end=\"\")\n",
        "    elif i == 10:\n",
        "      print(f\" {j} x {i} = {i*j} |\", end=\"\")\n",
        "    elif i*j < 10:\n",
        "      print(f\" {j} x  {i} =  {i*j} |\", end=\"\")\n",
        "    else:\n",
        "      print(f\" {j} x  {i} = {i*j} |\", end=\"\")\n",
        "  print()\n"
      ],
      "metadata": {
        "colab": {
          "base_uri": "https://localhost:8080/"
        },
        "id": "rxLKg2kD5xjD",
        "outputId": "992e5ba3-63eb-4ff6-dd76-34edbfd8793b"
      },
      "execution_count": 148,
      "outputs": [
        {
          "output_type": "stream",
          "name": "stdout",
          "text": [
            " 1 x  1 =  1 | 2 x  1 =  2 | 3 x  1 =  3 | 4 x  1 =  4 | 5 x  1 =  5 | 6 x  1 =  6 | 7 x  1 =  7 | 8 x  1 =  8 | 9 x  1 =  9 | 10 x  1 = 10 |\n",
            " 1 x  2 =  2 | 2 x  2 =  4 | 3 x  2 =  6 | 4 x  2 =  8 | 5 x  2 = 10 | 6 x  2 = 12 | 7 x  2 = 14 | 8 x  2 = 16 | 9 x  2 = 18 | 10 x  2 = 20 |\n",
            " 1 x  3 =  3 | 2 x  3 =  6 | 3 x  3 =  9 | 4 x  3 = 12 | 5 x  3 = 15 | 6 x  3 = 18 | 7 x  3 = 21 | 8 x  3 = 24 | 9 x  3 = 27 | 10 x  3 = 30 |\n",
            " 1 x  4 =  4 | 2 x  4 =  8 | 3 x  4 = 12 | 4 x  4 = 16 | 5 x  4 = 20 | 6 x  4 = 24 | 7 x  4 = 28 | 8 x  4 = 32 | 9 x  4 = 36 | 10 x  4 = 40 |\n",
            " 1 x  5 =  5 | 2 x  5 = 10 | 3 x  5 = 15 | 4 x  5 = 20 | 5 x  5 = 25 | 6 x  5 = 30 | 7 x  5 = 35 | 8 x  5 = 40 | 9 x  5 = 45 | 10 x  5 = 50 |\n",
            " 1 x  6 =  6 | 2 x  6 = 12 | 3 x  6 = 18 | 4 x  6 = 24 | 5 x  6 = 30 | 6 x  6 = 36 | 7 x  6 = 42 | 8 x  6 = 48 | 9 x  6 = 54 | 10 x  6 = 60 |\n",
            " 1 x  7 =  7 | 2 x  7 = 14 | 3 x  7 = 21 | 4 x  7 = 28 | 5 x  7 = 35 | 6 x  7 = 42 | 7 x  7 = 49 | 8 x  7 = 56 | 9 x  7 = 63 | 10 x  7 = 70 |\n",
            " 1 x  8 =  8 | 2 x  8 = 16 | 3 x  8 = 24 | 4 x  8 = 32 | 5 x  8 = 40 | 6 x  8 = 48 | 7 x  8 = 56 | 8 x  8 = 64 | 9 x  8 = 72 | 10 x  8 = 80 |\n",
            " 1 x  9 =  9 | 2 x  9 = 18 | 3 x  9 = 27 | 4 x  9 = 36 | 5 x  9 = 45 | 6 x  9 = 54 | 7 x  9 = 63 | 8 x  9 = 72 | 9 x  9 = 81 | 10 x  9 = 90 |\n",
            " 1 x 10 = 10 | 2 x 10 = 20 | 3 x 10 = 30 | 4 x 10 = 40 | 5 x 10 = 50 | 6 x 10 = 60 | 7 x 10 = 70 | 8 x 10 = 80 | 9 x 10 = 90 | 10 x 10 =100 |\n"
          ]
        }
      ]
    },
    {
      "cell_type": "code",
      "source": [
        "for i in range(1,11):\n",
        "  for j in range(1,11):\n",
        "    if i*j == 100:\n",
        "      print(f\" {j} x {i}  ={i*j}|\", end=\"\")\n",
        "    elif i == 10:\n",
        "      print(f\" {j} x {i} = {i*j} |\", end=\"\")\n",
        "    elif len(str(i*j)) == 2:\n",
        "      print(f\" {j} x {i}  = {i*j} |\", end=\"\")\n",
        "    elif j == 10:\n",
        "      print(f\"{j} x {i}  = {i*j}  |\", end=\"\")\n",
        "    else:\n",
        "      print(f\" {j} x {i}  =  {i*j} |\", end=\"\")\n",
        "  print()\n"
      ],
      "metadata": {
        "colab": {
          "base_uri": "https://localhost:8080/"
        },
        "id": "eKe37xl-cVBa",
        "outputId": "1f2c38c8-54f3-4cc1-aa85-dbe5adeba2f8"
      },
      "execution_count": 158,
      "outputs": [
        {
          "output_type": "stream",
          "name": "stdout",
          "text": [
            " 1 x 1  =  1 | 2 x 1  =  2 | 3 x 1  =  3 | 4 x 1  =  4 | 5 x 1  =  5 | 6 x 1  =  6 | 7 x 1  =  7 | 8 x 1  =  8 | 9 x 1  =  9 | 10 x 1  = 10 |\n",
            " 1 x 2  =  2 | 2 x 2  =  4 | 3 x 2  =  6 | 4 x 2  =  8 | 5 x 2  = 10 | 6 x 2  = 12 | 7 x 2  = 14 | 8 x 2  = 16 | 9 x 2  = 18 | 10 x 2  = 20 |\n",
            " 1 x 3  =  3 | 2 x 3  =  6 | 3 x 3  =  9 | 4 x 3  = 12 | 5 x 3  = 15 | 6 x 3  = 18 | 7 x 3  = 21 | 8 x 3  = 24 | 9 x 3  = 27 | 10 x 3  = 30 |\n",
            " 1 x 4  =  4 | 2 x 4  =  8 | 3 x 4  = 12 | 4 x 4  = 16 | 5 x 4  = 20 | 6 x 4  = 24 | 7 x 4  = 28 | 8 x 4  = 32 | 9 x 4  = 36 | 10 x 4  = 40 |\n",
            " 1 x 5  =  5 | 2 x 5  = 10 | 3 x 5  = 15 | 4 x 5  = 20 | 5 x 5  = 25 | 6 x 5  = 30 | 7 x 5  = 35 | 8 x 5  = 40 | 9 x 5  = 45 | 10 x 5  = 50 |\n",
            " 1 x 6  =  6 | 2 x 6  = 12 | 3 x 6  = 18 | 4 x 6  = 24 | 5 x 6  = 30 | 6 x 6  = 36 | 7 x 6  = 42 | 8 x 6  = 48 | 9 x 6  = 54 | 10 x 6  = 60 |\n",
            " 1 x 7  =  7 | 2 x 7  = 14 | 3 x 7  = 21 | 4 x 7  = 28 | 5 x 7  = 35 | 6 x 7  = 42 | 7 x 7  = 49 | 8 x 7  = 56 | 9 x 7  = 63 | 10 x 7  = 70 |\n",
            " 1 x 8  =  8 | 2 x 8  = 16 | 3 x 8  = 24 | 4 x 8  = 32 | 5 x 8  = 40 | 6 x 8  = 48 | 7 x 8  = 56 | 8 x 8  = 64 | 9 x 8  = 72 | 10 x 8  = 80 |\n",
            " 1 x 9  =  9 | 2 x 9  = 18 | 3 x 9  = 27 | 4 x 9  = 36 | 5 x 9  = 45 | 6 x 9  = 54 | 7 x 9  = 63 | 8 x 9  = 72 | 9 x 9  = 81 | 10 x 9  = 90 |\n",
            " 1 x 10 = 10 | 2 x 10 = 20 | 3 x 10 = 30 | 4 x 10 = 40 | 5 x 10 = 50 | 6 x 10 = 60 | 7 x 10 = 70 | 8 x 10 = 80 | 9 x 10 = 90 | 10 x 10  =100|\n"
          ]
        }
      ]
    },
    {
      "cell_type": "code",
      "metadata": {
        "id": "EFad3jXJUn5v",
        "colab": {
          "base_uri": "https://localhost:8080/"
        },
        "outputId": "4c2d2bbf-3ac9-4a35-e042-dbf7f91d6549"
      },
      "source": [
        "for i in range(1,11):\n",
        " for j in range(1,11):\n",
        "  print(format(j,\"2d\"),\"x\",format(i,\"2d\"),\"=\",format(i*j,\"3d\"),\"|\", end=\"\")#bunu hiç anlamadım 2d ne demek?\n",
        " print()"
      ],
      "execution_count": 106,
      "outputs": [
        {
          "output_type": "stream",
          "name": "stdout",
          "text": [
            " 1 x  1 =   1 | 2 x  1 =   2 | 3 x  1 =   3 | 4 x  1 =   4 | 5 x  1 =   5 | 6 x  1 =   6 | 7 x  1 =   7 | 8 x  1 =   8 | 9 x  1 =   9 |10 x  1 =  10 |\n",
            " 1 x  2 =   2 | 2 x  2 =   4 | 3 x  2 =   6 | 4 x  2 =   8 | 5 x  2 =  10 | 6 x  2 =  12 | 7 x  2 =  14 | 8 x  2 =  16 | 9 x  2 =  18 |10 x  2 =  20 |\n",
            " 1 x  3 =   3 | 2 x  3 =   6 | 3 x  3 =   9 | 4 x  3 =  12 | 5 x  3 =  15 | 6 x  3 =  18 | 7 x  3 =  21 | 8 x  3 =  24 | 9 x  3 =  27 |10 x  3 =  30 |\n",
            " 1 x  4 =   4 | 2 x  4 =   8 | 3 x  4 =  12 | 4 x  4 =  16 | 5 x  4 =  20 | 6 x  4 =  24 | 7 x  4 =  28 | 8 x  4 =  32 | 9 x  4 =  36 |10 x  4 =  40 |\n",
            " 1 x  5 =   5 | 2 x  5 =  10 | 3 x  5 =  15 | 4 x  5 =  20 | 5 x  5 =  25 | 6 x  5 =  30 | 7 x  5 =  35 | 8 x  5 =  40 | 9 x  5 =  45 |10 x  5 =  50 |\n",
            " 1 x  6 =   6 | 2 x  6 =  12 | 3 x  6 =  18 | 4 x  6 =  24 | 5 x  6 =  30 | 6 x  6 =  36 | 7 x  6 =  42 | 8 x  6 =  48 | 9 x  6 =  54 |10 x  6 =  60 |\n",
            " 1 x  7 =   7 | 2 x  7 =  14 | 3 x  7 =  21 | 4 x  7 =  28 | 5 x  7 =  35 | 6 x  7 =  42 | 7 x  7 =  49 | 8 x  7 =  56 | 9 x  7 =  63 |10 x  7 =  70 |\n",
            " 1 x  8 =   8 | 2 x  8 =  16 | 3 x  8 =  24 | 4 x  8 =  32 | 5 x  8 =  40 | 6 x  8 =  48 | 7 x  8 =  56 | 8 x  8 =  64 | 9 x  8 =  72 |10 x  8 =  80 |\n",
            " 1 x  9 =   9 | 2 x  9 =  18 | 3 x  9 =  27 | 4 x  9 =  36 | 5 x  9 =  45 | 6 x  9 =  54 | 7 x  9 =  63 | 8 x  9 =  72 | 9 x  9 =  81 |10 x  9 =  90 |\n",
            " 1 x 10 =  10 | 2 x 10 =  20 | 3 x 10 =  30 | 4 x 10 =  40 | 5 x 10 =  50 | 6 x 10 =  60 | 7 x 10 =  70 | 8 x 10 =  80 | 9 x 10 =  90 |10 x 10 = 100 |\n"
          ]
        }
      ]
    },
    {
      "cell_type": "markdown",
      "metadata": {
        "id": "dGpuRAit2zgJ"
      },
      "source": [
        "**6. A jumbled list is given whose elements are consecutive numbers. Write python code that outputs even numbers of missing numbers that are between the smallest element and the largest element of the list, but not shown in the list.**\n",
        "\n",
        "**Input**\n",
        "\n",
        "**liste = [48, 10, 11, 21, 36, 5, 6, 52, 28, 29, 53, 54, 45, 19, 20, 47, 55, 39, 41, 7, 9, 17, 26, 27, 42, 22, 37, 51, 46, 18, 44, 30, 34, 13, 15, 35, 33, 16, 50, 24]**\n",
        "\n",
        "**Expected Output:\n",
        "8 12 14 32 38 40**"
      ]
    },
    {
      "cell_type": "code",
      "source": [
        "jumbled_liste = [48, 10, 11, 21, 36, 5, 6, 52, 28, 29, 53, 54, 45, 19, 20, 47, 55, 39, 41, 7, 9, 17, 26, 27, 42, 22, 37, 51, 46, 18, 44, 30, 34, 13, 15, 35, 33, 16, 50, 24]\n",
        "jumbled_liste.sort()\n",
        "even_nums = [i for i in jumbled_liste if i % 2 == 0]\n",
        "for x in even_nums:\n",
        "  if x #bir array içerisindeki ardışık iki öge arasında işlem yapmak mümkün mü? mesela 1 ve 2. indeksdeki arasındaki fark 4 e eşitse bunların toplamının yarısını ver gibi bir işlem.\n",
        "  # son kısım fonksiyonla yapılır ama ilk önce 2. sonra birinci indekdeki elemanı seçip almak mümkün mü?\n"
      ],
      "metadata": {
        "colab": {
          "base_uri": "https://localhost:8080/"
        },
        "id": "6w6OAZDftH7d",
        "outputId": "524ed0ba-9402-42ab-87d5-98e20cf6531d"
      },
      "execution_count": 197,
      "outputs": [
        {
          "output_type": "stream",
          "name": "stdout",
          "text": [
            "[6, 10, 16, 18, 20, 22, 24, 26, 28, 30, 34, 36, 42, 44, 46, 48, 50, 52, 54]\n"
          ]
        }
      ]
    },
    {
      "cell_type": "code",
      "source": [
        "jumbled_liste = [48, 10, 11, 21, 36, 5, 6, 52, 28, 29, 53, 54, 45, 19, 20, 47, 55, 39, 41, 7, 9, 17, 26, 27, 42, 22, 37, 51, 46, 18, 44, 30, 34, 13, 15, 35, 33, 16, 50, 24]\n",
        "jumbled_liste.sort()\n",
        "x = jumbled_liste[-1]\n",
        "y = jumbled_liste[0]\n",
        "set_1 = set(range(y,x))\n",
        "set_2 = set(jumbled_liste)\n",
        "missing_nums = list(set_1 - set_2)\n",
        "missing_nums.sort()\n",
        "missing_even_nums = [i for i in missing_nums if i % 2 == 0]\n",
        "print(missing_even_nums)\n"
      ],
      "metadata": {
        "colab": {
          "base_uri": "https://localhost:8080/"
        },
        "id": "dLpcf1bu1aCT",
        "outputId": "df3dade9-c9ca-4327-8cfa-3ea5bb3e6e08"
      },
      "execution_count": 194,
      "outputs": [
        {
          "output_type": "stream",
          "name": "stdout",
          "text": [
            "[8, 12, 14, 32, 38, 40]\n"
          ]
        }
      ]
    }
  ]
}