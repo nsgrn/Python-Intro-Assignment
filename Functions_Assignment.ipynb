{
  "nbformat": 4,
  "nbformat_minor": 0,
  "metadata": {
    "colab": {
      "provenance": [],
      "authorship_tag": "ABX9TyMUSETN3y+80TrHXEcRzviK",
      "include_colab_link": true
    },
    "kernelspec": {
      "name": "python3",
      "display_name": "Python 3"
    },
    "language_info": {
      "name": "python"
    }
  },
  "cells": [
    {
      "cell_type": "markdown",
      "metadata": {
        "id": "view-in-github",
        "colab_type": "text"
      },
      "source": [
        "<a href=\"https://colab.research.google.com/github/nsgrn/Python-Intro-Assignment/blob/main/Functions_Assignment.ipynb\" target=\"_parent\"><img src=\"https://colab.research.google.com/assets/colab-badge.svg\" alt=\"Open In Colab\"/></a>"
      ]
    },
    {
      "cell_type": "markdown",
      "source": [
        "#1. Finding Prime Number\n",
        "\n",
        "A prime number is an integer greater than one that is only divisible by one and itself. Write a function that determines whether or not its parameter is prime, returning True if it is, and False otherwise. Write a main program that reads an integer from the user and displays a message indicating whether or not it is prime."
      ],
      "metadata": {
        "id": "RYWyla7nF9sy"
      }
    },
    {
      "cell_type": "code",
      "source": [
        "x = int(input(\"enter a number: \"))\n",
        "def prime_function():\n",
        "  for i in range(2,x):\n",
        "    if x % i == 0:\n",
        "      return False\n",
        "  return True\n",
        "if prime_function():\n",
        "  print(x, \"is a prime number\")\n",
        "else:\n",
        "  print(x, \"is not a prime number\")"
      ],
      "metadata": {
        "colab": {
          "base_uri": "https://localhost:8080/"
        },
        "id": "ApSQLFE01hye",
        "outputId": "1c632387-120c-4596-9ddd-688c3d626bfd"
      },
      "execution_count": 19,
      "outputs": [
        {
          "output_type": "stream",
          "name": "stdout",
          "text": [
            "enter a number: 11\n",
            "11 is a prime number\n"
          ]
        }
      ]
    },
    {
      "cell_type": "markdown",
      "source": [
        "#2. Rømer temperature\n",
        "\n",
        "You're writing an excruciatingly detailed alternate history novel set in a world where Daniel Gabriel Fahrenheit was never born.\n",
        "\n",
        "Since Fahrenheit never lived the world kept on using the Rømer scale, invented by fellow Dane Ole Rømer to this very day, skipping over the Fahrenheit and Celsius scales entirely.\n",
        "\n",
        "Your magnum opus contains several thousand references to temperature, but those temperatures are all currently in degrees Celsius. You don't want to convert everything by hand, so you've decided to write a function, celsius_to_romer that takes a temperature in degrees Celsius and returns the equivalent temperature in degrees Rømer. A Rømer degree is equivalent to 40/21 of a Celsius degree.\n",
        "\n",
        "For example: celsius_to_romer(24) should return 20.1."
      ],
      "metadata": {
        "id": "FQUrXtop3mYK"
      }
    },
    {
      "cell_type": "code",
      "source": [
        "x = int(input(\"enter degree in celsius: \"))\n",
        "def celsius_to_romer(x):\n",
        "  return (x + 8) * 4/9\n",
        "print(x, \"Celsius is equivalent to\", celsius_to_romer(x), \"in Romer\")"
      ],
      "metadata": {
        "colab": {
          "base_uri": "https://localhost:8080/"
        },
        "id": "vEizJVA33pZX",
        "outputId": "29e6663b-139b-4e50-8767-3575070641b1"
      },
      "execution_count": 31,
      "outputs": [
        {
          "output_type": "stream",
          "name": "stdout",
          "text": [
            "enter degree in celsius: 24\n",
            "24 Celsius is equivalent to 14.222222222222221 in Romer\n"
          ]
        }
      ]
    },
    {
      "cell_type": "markdown",
      "source": [
        "#3. Pixelart planning\n",
        "\n",
        "You're laying out a rad pixel art mural to paint on your living room wall in homage to Paul Robertson, your favorite pixel artist.\n",
        "\n",
        "You want your work to be perfect down to the millimeter. You haven't decided on the dimensions of your piece, how large you want your pixels to be, or which wall you want to use. You just know that you want to fit an exact number of pixels.\n",
        "\n",
        "To help decide those things you've decided to write a function, is_divisible that will tell you whether a wall of a certain length can exactly fit an integer number of pixels of a certain length.\n",
        "\n",
        "Your function should take two arguments: the size of the wall in millimeters and the size of a pixel in millimeters. It should return True if you can fit an exact number of pixels on the wall, otherwise it should return False. For example is_divisible(4050, 27) should return True, but is_divisible(4066, 27) should return False.\n",
        "\n",
        "Note: you don't need to use an if statement here. Remember that in Python an expression using the == comparison operator will evaluate to either True or False:"
      ],
      "metadata": {
        "id": "HPYswltn81v_"
      }
    },
    {
      "cell_type": "code",
      "source": [
        "x = size_of_wall = int(input(\"enter size of wall in millimeters: \"))\n",
        "y = size_of_pixel = int(input(\"enter size of pixel in millimeters: \"))\n",
        "def perfect_art(x,y):\n",
        "  return x % y == 0\n",
        "print(perfect_art(x,y))"
      ],
      "metadata": {
        "colab": {
          "base_uri": "https://localhost:8080/"
        },
        "id": "p8IOBjON9CEP",
        "outputId": "53c1adc6-1775-47aa-9fd2-8684a4f6895f"
      },
      "execution_count": 45,
      "outputs": [
        {
          "output_type": "stream",
          "name": "stdout",
          "text": [
            "enter size of wall in millimeters: 4\n",
            "enter size of pixel in millimeters: 5\n",
            "False\n"
          ]
        }
      ]
    }
  ]
}