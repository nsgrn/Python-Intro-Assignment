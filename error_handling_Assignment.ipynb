{
  "nbformat": 4,
  "nbformat_minor": 0,
  "metadata": {
    "colab": {
      "provenance": [],
      "authorship_tag": "ABX9TyOc5KxvO9ogS+Vb6NkHbt8u",
      "include_colab_link": true
    },
    "kernelspec": {
      "name": "python3",
      "display_name": "Python 3"
    },
    "language_info": {
      "name": "python"
    }
  },
  "cells": [
    {
      "cell_type": "markdown",
      "metadata": {
        "id": "view-in-github",
        "colab_type": "text"
      },
      "source": [
        "<a href=\"https://colab.research.google.com/github/nsgrn/Python-Intro-Assignment/blob/main/error_handling_Assignment.ipynb\" target=\"_parent\"><img src=\"https://colab.research.google.com/assets/colab-badge.svg\" alt=\"Open In Colab\"/></a>"
      ]
    },
    {
      "cell_type": "markdown",
      "source": [
        "#1- Let us define a division operation inside a function (using def) but to get an error, define the denominator as 0. So, type except statement properly.\n",
        "\n"
      ],
      "metadata": {
        "id": "UEYDqsVGwgbq"
      }
    },
    {
      "cell_type": "code",
      "source": [
        "a = input(\"enter a number to divide 2: \")\n",
        "def division_op(a):\n",
        "  try:\n",
        "    return 2/int(a)\n",
        "  except ValueError:#Burada girdi sıfır olunca neden ilk exception değil de ikinci exception block'a geçti?\n",
        "  #ZeroDivisionError ya da ValueError zaten pythonda tanımlanan bir hata olduğu için mi?\n",
        "  #Ve en alttaki except te tanımlanmayan bir hata olsa da kodu çalıştır mı demiş oluyoruz?\n",
        "    print(\"This is not a number\")\n",
        "  except:\n",
        "    print(\"a number cannot be divided by 0\")\n",
        "division_op(a)"
      ],
      "metadata": {
        "colab": {
          "base_uri": "https://localhost:8080/"
        },
        "id": "nLNN7zjAwtmU",
        "outputId": "7e994030-6640-4f1c-c247-f41a2a6c089b"
      },
      "execution_count": 57,
      "outputs": [
        {
          "output_type": "stream",
          "name": "stdout",
          "text": [
            "enter a number to divide 2: ali\n",
            "This is not a number\n"
          ]
        }
      ]
    },
    {
      "cell_type": "markdown",
      "source": [
        "#2- It is possible to get multiple errors after the execution of one try block. So, please define an error-exception issue with NameError.\n",
        "\n"
      ],
      "metadata": {
        "id": "MsyeRqo4wmuC"
      }
    },
    {
      "cell_type": "code",
      "source": [
        "print(b)"
      ],
      "metadata": {
        "colab": {
          "base_uri": "https://localhost:8080/",
          "height": 139
        },
        "id": "Stv-_AsI_seP",
        "outputId": "64a0dd4a-a5c5-401a-fdf9-1d625f9c2e4d"
      },
      "execution_count": 64,
      "outputs": [
        {
          "output_type": "error",
          "ename": "NameError",
          "evalue": "name 'b' is not defined",
          "traceback": [
            "\u001b[0;31m---------------------------------------------------------------------------\u001b[0m",
            "\u001b[0;31mNameError\u001b[0m                                 Traceback (most recent call last)",
            "\u001b[0;32m<ipython-input-64-67e500defa1b>\u001b[0m in \u001b[0;36m<cell line: 0>\u001b[0;34m()\u001b[0m\n\u001b[0;32m----> 1\u001b[0;31m \u001b[0mprint\u001b[0m\u001b[0;34m(\u001b[0m\u001b[0mb\u001b[0m\u001b[0;34m)\u001b[0m\u001b[0;34m\u001b[0m\u001b[0;34m\u001b[0m\u001b[0m\n\u001b[0m",
            "\u001b[0;31mNameError\u001b[0m: name 'b' is not defined"
          ]
        }
      ]
    },
    {
      "cell_type": "code",
      "source": [
        "try:\n",
        "  print(b)\n",
        "except NameError:\n",
        "  print(\"Variable b is not defined\")"
      ],
      "metadata": {
        "colab": {
          "base_uri": "https://localhost:8080/"
        },
        "id": "UoWgNU2b3OsQ",
        "outputId": "3c3bccd3-45f7-43dc-d262-9ed1fa027666"
      },
      "execution_count": 67,
      "outputs": [
        {
          "output_type": "stream",
          "name": "stdout",
          "text": [
            "Variable b is not defined\n"
          ]
        }
      ]
    },
    {
      "cell_type": "markdown",
      "source": [
        "#3- Please define a function and with this function, generate a ValueError exception simply by entering a string instead of numerical value.\n",
        "\n"
      ],
      "metadata": {
        "id": "ygtdIgRHwo8f"
      }
    },
    {
      "cell_type": "code",
      "source": [
        "x = \"Ali\"\n",
        "def random_func(x):\n",
        "  try:\n",
        "    return int(x)\n",
        "  except:\n",
        "    print(\"This is not a number\")\n",
        "random_func(x)"
      ],
      "metadata": {
        "colab": {
          "base_uri": "https://localhost:8080/"
        },
        "id": "VCjIAdEr_9lb",
        "outputId": "e20e0e72-7442-435b-a4a8-1f2f53e8f870"
      },
      "execution_count": 73,
      "outputs": [
        {
          "output_type": "stream",
          "name": "stdout",
          "text": [
            "This is not a number\n"
          ]
        }
      ]
    },
    {
      "cell_type": "markdown",
      "source": [
        "#4- Write a function called circumference that takes the diameter of a circle as input and produces the circumference of the circle. Your function should use try...except to check for a type error in the event a string is passed."
      ],
      "metadata": {
        "id": "ouVFQmAawq1b"
      }
    },
    {
      "cell_type": "code",
      "source": [
        "diameter = input(\"give me a diameter: \")\n",
        "def circumference(diameter):\n",
        "  try:\n",
        "    return float(diameter) * 3.14\n",
        "  except ValueError: #bunu TypeError ile yazmak imkansız gibi?\n",
        "  #len fonksiyon gibi sadece list, string, tuple alan bir fonksiyon yazmak için built in fonksiyon olması gerekmez mi?\n",
        "  #ya da if type gibi bişi yazmam lazım doğru mu?\n",
        "      print(\"This is not a number\")\n",
        "circumference(diameter)"
      ],
      "metadata": {
        "colab": {
          "base_uri": "https://localhost:8080/"
        },
        "id": "BZW0L22FB0pW",
        "outputId": "cec52ebb-1b56-4fbf-8f33-e777b76c4869"
      },
      "execution_count": 110,
      "outputs": [
        {
          "output_type": "stream",
          "name": "stdout",
          "text": [
            "give me a diameter: ali\n",
            "This is not a number\n"
          ]
        }
      ]
    },
    {
      "cell_type": "code",
      "source": [
        "diameter = input(\"give me a diameter: \")\n",
        "def circumference(diameter):\n",
        "  try:\n",
        "    return float(diameter) * 3.14\n",
        "  except TypeError: #sonuç veren bu except block değil de alttaki sanki?\n",
        "      print(\"This is not a number\")\n",
        "  except ValueError:\n",
        "      print(\"This is not a number\")\n",
        "circumference(diameter)"
      ],
      "metadata": {
        "colab": {
          "base_uri": "https://localhost:8080/"
        },
        "id": "fitfAG8-PlfW",
        "outputId": "1ba90256-d1de-4ea7-fed6-c71fe031ef7e"
      },
      "execution_count": 123,
      "outputs": [
        {
          "output_type": "stream",
          "name": "stdout",
          "text": [
            "give me a diameter: five\n",
            "This is not a number\n"
          ]
        }
      ]
    }
  ]
}