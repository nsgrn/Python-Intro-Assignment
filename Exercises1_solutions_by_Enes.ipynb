{
  "cells": [
    {
      "cell_type": "markdown",
      "metadata": {
        "id": "view-in-github",
        "colab_type": "text"
      },
      "source": [
        "<a href=\"https://colab.research.google.com/github/nsgrn/Python-Intro-Assignment/blob/main/Exercises1_solutions_by_Enes.ipynb\" target=\"_parent\"><img src=\"https://colab.research.google.com/assets/colab-badge.svg\" alt=\"Open In Colab\"/></a>"
      ]
    },
    {
      "cell_type": "markdown",
      "metadata": {
        "id": "vCv-DnFDaBKA"
      },
      "source": [
        "# ÇALIŞMALAR"
      ]
    },
    {
      "cell_type": "markdown",
      "metadata": {
        "id": "lvWk0tIPS64Q"
      },
      "source": [
        "**Write a Python program to sum of three given integers. However, if two values are equal sum will be zero.**"
      ]
    },
    {
      "cell_type": "code",
      "execution_count": null,
      "metadata": {
        "id": "WJz4pPldS64S",
        "colab": {
          "base_uri": "https://localhost:8080/"
        },
        "outputId": "306eb904-6de1-4307-92fe-2bbf9082625f"
      },
      "outputs": [
        {
          "output_type": "stream",
          "name": "stdout",
          "text": [
            "0\n"
          ]
        }
      ],
      "source": [
        "x = 2\n",
        "y = 4\n",
        "z = 2\n",
        "if x == y or y == z or x==z:\n",
        "  print(0)\n",
        "else:\n",
        "  print(x+y+z)"
      ]
    },
    {
      "cell_type": "markdown",
      "metadata": {
        "id": "Etr0y7KLS64S"
      },
      "source": [
        "**Write a Python program to sum of two given integers. However, if the sum is between 15 to 20 it will return the sum, otherwise print \"Please enter different numbers\"**"
      ]
    },
    {
      "cell_type": "code",
      "execution_count": null,
      "metadata": {
        "id": "UBE-VEknTtRC",
        "colab": {
          "base_uri": "https://localhost:8080/"
        },
        "outputId": "ae5eab70-a0db-4824-ef9f-f09f9b4547ee"
      },
      "outputs": [
        {
          "output_type": "stream",
          "name": "stdout",
          "text": [
            "15\n"
          ]
        }
      ],
      "source": [
        "x = 1\n",
        "y = 14\n",
        "a = x + y\n",
        "if a >= 15 and a <=20:\n",
        "  print(a)\n",
        "else:\n",
        "  print(\"Please enter different numbers\")"
      ]
    },
    {
      "cell_type": "code",
      "source": [
        "x = int(input(\"enter a number: \"))\n",
        "y = int(input(\"enter a number: \"))\n",
        "if x + y in range(15,20):\n",
        "  print(x+y)\n",
        "else:\n",
        "  print(\"Please enter different numbers\")"
      ],
      "metadata": {
        "colab": {
          "base_uri": "https://localhost:8080/"
        },
        "id": "MPIrTCMbbfx_",
        "outputId": "89fc65a9-4b97-40cb-b037-605d3d2aa05f"
      },
      "execution_count": null,
      "outputs": [
        {
          "output_type": "stream",
          "name": "stdout",
          "text": [
            "enter a number: 14\n",
            "enter a number: 2\n",
            "16\n"
          ]
        }
      ]
    },
    {
      "cell_type": "markdown",
      "metadata": {
        "id": "PK_Alva2S64U"
      },
      "source": [
        "**Değişik formatlarda üçgen yapma fonksiyonları**"
      ]
    },
    {
      "cell_type": "code",
      "execution_count": null,
      "metadata": {
        "colab": {
          "base_uri": "https://localhost:8080/"
        },
        "id": "Lm52wxhIS64V",
        "outputId": "384f0b61-20ce-4484-fe04-4c69cf8b67df"
      },
      "outputs": [
        {
          "output_type": "stream",
          "name": "stdout",
          "text": [
            "*\n",
            "**\n",
            "***\n",
            "****\n",
            "*****\n"
          ]
        }
      ],
      "source": [
        "for i in range(1, 6):\n",
        "  print(\"*\" * i)\n"
      ]
    },
    {
      "cell_type": "code",
      "execution_count": null,
      "metadata": {
        "colab": {
          "base_uri": "https://localhost:8080/"
        },
        "id": "Mi4cJ4o8S64Z",
        "outputId": "ba63b076-49ef-4b68-b65a-445189377869"
      },
      "outputs": [
        {
          "output_type": "stream",
          "name": "stdout",
          "text": [
            "1\n",
            "12\n",
            "123\n",
            "1234\n",
            "12345\n"
          ]
        }
      ],
      "source": [
        "for i in range(1,6):\n",
        "  for j in range(1,i+1):\n",
        "    print(j, end=\"\")\n",
        "  print()\n"
      ]
    },
    {
      "cell_type": "code",
      "execution_count": null,
      "metadata": {
        "colab": {
          "base_uri": "https://localhost:8080/"
        },
        "id": "bDiw1PXmS64b",
        "outputId": "603feea3-3ab1-47d1-9593-3b949cb861cc"
      },
      "outputs": [
        {
          "output_type": "stream",
          "name": "stdout",
          "text": [
            "     *\n",
            "    **\n",
            "   ***\n",
            "  ****\n",
            " *****\n"
          ]
        }
      ],
      "source": [
        "for i in range(1,6):\n",
        "  print(\" \" * (6-i) + \"*\" * i)\n"
      ]
    },
    {
      "cell_type": "code",
      "execution_count": null,
      "metadata": {
        "id": "smdYdN4NS64c"
      },
      "outputs": [],
      "source": [
        "#      1\n",
        "#     1 2\n",
        "#    1 2 3\n",
        "#   1 2 3 4\n",
        "#  1 2 3 4 5\n"
      ]
    },
    {
      "cell_type": "code",
      "execution_count": null,
      "metadata": {
        "id": "40vURJmSS64c",
        "colab": {
          "base_uri": "https://localhost:8080/"
        },
        "outputId": "be1fe2d3-6212-4ac0-eef3-bac813fe2bd7"
      },
      "outputs": [
        {
          "output_type": "stream",
          "name": "stdout",
          "text": [
            "*****\n",
            "1****\n",
            "12***\n",
            "123**\n",
            "1234*\n",
            "12345"
          ]
        }
      ],
      "source": [
        "for i in range(1,6):\n",
        "  print(\"*\" * (6-i))#bu neden böyle oldu?\n",
        "  for j in range(1,i+1):\n",
        "    print(j, end=\"\")\n",
        "\n",
        "\n"
      ]
    },
    {
      "cell_type": "code",
      "source": [
        "for i in range(1,6):\n",
        "    print(\" \" * (6-i), end=\"\")\n",
        "    for j in range(1,i+1):\n",
        "      print(j, end=\" \")\n",
        "    print()#bunu buraya neden koyuyoruz. Bir sonraki satıra geçsin diye mi"
      ],
      "metadata": {
        "colab": {
          "base_uri": "https://localhost:8080/"
        },
        "id": "XvdUppN7boEl",
        "outputId": "ad390d8b-2e4d-4387-fbd1-a017d60bba82"
      },
      "execution_count": null,
      "outputs": [
        {
          "output_type": "stream",
          "name": "stdout",
          "text": [
            "     1 \n",
            "    1 2 \n",
            "   1 2 3 \n",
            "  1 2 3 4 \n",
            " 1 2 3 4 5 \n"
          ]
        }
      ]
    },
    {
      "cell_type": "markdown",
      "metadata": {
        "id": "LaTaPDllS64d"
      },
      "source": [
        "**Write a Python program to get a string made of the first 2 and the last 2 chars from a given a string. If the string length is less than 2, return instead of the empty string**"
      ]
    },
    {
      "cell_type": "code",
      "execution_count": null,
      "metadata": {
        "id": "dO1aO9ssS64d",
        "colab": {
          "base_uri": "https://localhost:8080/"
        },
        "outputId": "e2360136-a436-4540-9401-c4c9fd0b44d7"
      },
      "outputs": [
        {
          "output_type": "stream",
          "name": "stdout",
          "text": [
            "give me a string: ar\n",
            "\n"
          ]
        }
      ],
      "source": [
        "x = str(input(\"give me a string: \"))\n",
        "if len(x) < 3:\n",
        "  print()\n",
        "else:\n",
        "  print(x[:2] + x[-2:])"
      ]
    },
    {
      "cell_type": "markdown",
      "metadata": {
        "id": "IJmNddbhS64g"
      },
      "source": [
        "#Write a program to find all the Armstrong numbers present in between two intervals in Python. For example, Armstrong numbers between 100 and 2000.**\n",
        "**A number from the user will be set to be \"Armstrong. For example, if a number has 4 digits and is equal to the 4th (3rd power for 3-digit numbers) of each of its surroundings, this number is called the \"Armstrong\" number. 371 = (3^3)+(7^3)+(1^3), 1634 = (1^4)+(6^4)+(3^4)+(4^4)\n",
        "153 370 371 407 1634"
      ]
    },
    {
      "cell_type": "code",
      "execution_count": null,
      "metadata": {
        "colab": {
          "base_uri": "https://localhost:8080/"
        },
        "id": "imgUaF7tS64h",
        "outputId": "2c623e6e-c1b4-45ca-cd09-da8000600129"
      },
      "outputs": [
        {
          "output_type": "stream",
          "name": "stdout",
          "text": [
            "enter e number between 100 and 2000: 1422\n",
            "This is not an Armstrong\n"
          ]
        }
      ],
      "source": [
        "x = input(\"enter e number between 100 and 2000: \")\n",
        "a = int(x)\n",
        "if a < 100 or a > 2000:\n",
        "  print(\"enter different number\")\n",
        "elif len(x) == 3 and a == int(x[0])**len(x) + int(x[1])**len(x) + int(x[2])**len(x):\n",
        "    print(\"This is an Armstrong\")\n",
        "elif len(x) == 4 and a == int(x[0])**len(x) + int(x[1])**len(x) + int(x[2])**len(x) + int(x[3])**len(x):\n",
        "    print(\"This is an Armstrong\")\n",
        "else:\n",
        "  print(\"This is not an Armstrong\")\n",
        "#Bu kodu 3 ve 4 haneyi ayrı ayrı değil de range funksion ile nasıl yazabilirim? 10 haneli bir sayı olsun mesela. Liste mi oluşturmam lazım?\n",
        "#a == int(x[-1])**len(x) + int(x[-2])**len(x) ...... + int(x[-len(x)])**len(x):\n",
        "\n"
      ]
    },
    {
      "cell_type": "code",
      "source": [
        "x = input(\"enter e number between 100 and 2000: \")\n",
        "a = int(x)\n",
        "b = len(x)\n",
        "for i in range(1, b+1):\n",
        "  if x == x[-1]**b + x[-2]**b ..... x[-b]**#biraz yapmaya çalıştım ama i için bir fonksiyon mu yazmam lazım burada?\n",
        "    print(\"This is an Armstrong\")"
      ],
      "metadata": {
        "id": "MaK4HQVGcC9C"
      },
      "execution_count": null,
      "outputs": []
    },
    {
      "cell_type": "markdown",
      "metadata": {
        "id": "wwG-io-lS64i"
      },
      "source": [
        "**Write a Python program which iterates the integers from 1 to 50. For multiples of three print \"Fizz\" instead of the number and for the multiples of five print \"Buzz\". For numbers which are multiples of both three and five print \"FizzBuzz\". Sample Output : fizzbuzz 1 2 fizz 4 buzz**"
      ]
    },
    {
      "cell_type": "code",
      "execution_count": null,
      "metadata": {
        "id": "lU7sB3h4S64i",
        "colab": {
          "base_uri": "https://localhost:8080/"
        },
        "outputId": "4a3c2a74-d2c2-4372-b722-64392efa5149"
      },
      "outputs": [
        {
          "output_type": "stream",
          "name": "stdout",
          "text": [
            "1 2 Fizz 4 Buzz Fizz 7 8 Fizz Buzz 11 Fizz 13 14 FizzBuzz 16 17 Fizz 19 Buzz Fizz 22 23 Fizz Buzz 26 Fizz 28 29 FizzBuzz 31 32 Fizz 34 Buzz Fizz 37 38 Fizz Buzz 41 Fizz 43 44 FizzBuzz 46 47 Fizz 49 Buzz "
          ]
        }
      ],
      "source": [
        "for i in range(1, 51):\n",
        "  if i % 15 == 0:\n",
        "    print(\"FizzBuzz\", end=\" \")\n",
        "  elif i % 3 == 0:\n",
        "    print(\"Fizz\", end=\" \")\n",
        "  elif i % 5 == 0:\n",
        "    print(\"Buzz\", end=\" \")\n",
        "  else:\n",
        "    print(i, end=\" \")"
      ]
    },
    {
      "cell_type": "markdown",
      "source": [
        "##@title Write an algorithm that takes an array and moves all of the zeros to the end, preserving the order of the other elements.\n",
        "list1 = [1, 0, 1, 2, 0, 1, 3]\n",
        "[1, 1, 2, 1, 3, 0, 0]"
      ],
      "metadata": {
        "id": "tSB_4v-JTylE"
      }
    },
    {
      "cell_type": "code",
      "execution_count": 2,
      "metadata": {
        "id": "ZgIViutnS64j",
        "colab": {
          "base_uri": "https://localhost:8080/"
        },
        "outputId": "0b80c2e0-080e-4293-ebc4-978f9bbe84ca"
      },
      "outputs": [
        {
          "output_type": "stream",
          "name": "stdout",
          "text": [
            "1 1 2 1 3 0 0 "
          ]
        }
      ],
      "source": [
        "list1 = [1, 0, 1, 2, 0, 1, 3]\n",
        "def list2():\n",
        "  for i in list1:\n",
        "    if i == 0: continue\n",
        "    print(i, end=\" \")\n",
        "def list3():\n",
        "  for i in list1:\n",
        "    if i == 0:\n",
        "      print(i, end=\" \")\n",
        "list2()\n",
        "list3()\n"
      ]
    },
    {
      "cell_type": "markdown",
      "source": [
        "#Exercise -95 :\n",
        "Given two strings, determine if they share a common substring. A substring may be as small as one character.\n",
        "Example\n",
        "s1 = \"and\"\n",
        "s2 = \"art\"\n",
        "These share the common substring  \"a\".\n",
        "s1= \"be\"\n",
        "s2= \"cat\"\n",
        "These do not share a substring.\n",
        "Returns\n",
        "string: either YES or NO\n",
        "\n",
        "Extra: Write a program that finds max common substring.\n"
      ],
      "metadata": {
        "id": "mxd_-PSPET5H"
      }
    },
    {
      "cell_type": "code",
      "execution_count": 5,
      "metadata": {
        "id": "U5OgV_KhaotQ",
        "colab": {
          "base_uri": "https://localhost:8080/"
        },
        "outputId": "8e9f7e27-96d8-400f-cf6d-279a9aa04547"
      },
      "outputs": [
        {
          "output_type": "stream",
          "name": "stdout",
          "text": [
            "enter a string: ali\n",
            "enter a string: veli\n",
            "YES common substrings:l\n",
            "YES common substrings:i\n"
          ]
        }
      ],
      "source": [
        "string_1 = str(input(\"enter a string: \"))\n",
        "string_2 = str(input(\"enter a string: \"))\n",
        "for i in string_1:\n",
        "  for j in string_2:\n",
        "    if i == j:\n",
        "      print(\"YES common substrings:\", end=\"\"\n",
        "      #burada \"YES common string\" yazısını bir kere print etmesini nasıl sağlarım. Sonra ortak karakterleri yanyana koysun istiyorum\n",
        "      print(i)\n",
        "      break#ilk loop da neden durmadı?"
      ]
    },
    {
      "cell_type": "code",
      "source": [
        "string_1 = str(input(\"enter a string: \"))\n",
        "string_2 = str(input(\"enter a string: \"))\n",
        "def common_strings():\n",
        "  for i in string_1:\n",
        "    for j in string_2:\n",
        "     if i != j:\n",
        "        continue\n",
        "      elif i == j:\n",
        "        print(i, end=\"\")#burada ilk ortak karakteri bulduğunda ikinci ortak karakter ilki ile aynı ise onu print etme diyebilmek mümkün mü?\n",
        ""
      ],
      "metadata": {
        "colab": {
          "base_uri": "https://localhost:8080/"
        },
        "id": "tmgWW0jgaK58",
        "outputId": "f58dac0c-7cde-4112-f8e5-f2e64a5fa2ae"
      },
      "execution_count": 9,
      "outputs": [
        {
          "output_type": "stream",
          "name": "stdout",
          "text": [
            "enter a string: enes\n",
            "enter a string: ela\n",
            "ee"
          ]
        }
      ]
    },
    {
      "cell_type": "code",
      "source": [
        "string_1 = str(input(\"enter a string: \"))\n",
        "string_2 = str(input(\"enter a string: \"))\n",
        "for i in string_1:\n",
        "  for j in string_2:\n",
        "    if i == j:\n",
        "      print(i, end=\"\")#Burada neden ortak karakterleri print etmediki?\n",
        "    else:\n",
        "      print(\"NONE\")\n",
        "      break\n"
      ],
      "metadata": {
        "colab": {
          "base_uri": "https://localhost:8080/"
        },
        "id": "VOgxYovqdBGp",
        "outputId": "5680d964-7877-4f0e-9242-2418b8c7ad03"
      },
      "execution_count": 13,
      "outputs": [
        {
          "output_type": "stream",
          "name": "stdout",
          "text": [
            "enter a string: ali\n",
            "enter a string: veli\n",
            "NONE\n",
            "NONE\n",
            "NONE\n"
          ]
        }
      ]
    }
  ],
  "metadata": {
    "colab": {
      "provenance": [],
      "include_colab_link": true
    },
    "kernelspec": {
      "display_name": "Python 3",
      "name": "python3"
    },
    "language_info": {
      "codemirror_mode": {
        "name": "ipython",
        "version": 3
      },
      "file_extension": ".py",
      "mimetype": "text/x-python",
      "name": "python",
      "nbconvert_exporter": "python",
      "pygments_lexer": "ipython3",
      "version": "3.11.5"
    }
  },
  "nbformat": 4,
  "nbformat_minor": 0
}