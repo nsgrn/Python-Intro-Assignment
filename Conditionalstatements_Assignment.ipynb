{
  "nbformat": 4,
  "nbformat_minor": 0,
  "metadata": {
    "colab": {
      "provenance": [],
      "authorship_tag": "ABX9TyNprmo2Gj78fQUPnBPEYvE0",
      "include_colab_link": true
    },
    "kernelspec": {
      "name": "python3",
      "display_name": "Python 3"
    },
    "language_info": {
      "name": "python"
    }
  },
  "cells": [
    {
      "cell_type": "markdown",
      "metadata": {
        "id": "view-in-github",
        "colab_type": "text"
      },
      "source": [
        "<a href=\"https://colab.research.google.com/github/nsgrn/Python-Intro-Assignment/blob/main/Conditionalstatements_Assignment.ipynb\" target=\"_parent\"><img src=\"https://colab.research.google.com/assets/colab-badge.svg\" alt=\"Open In Colab\"/></a>"
      ]
    },
    {
      "cell_type": "markdown",
      "source": [
        "#1 Ask the user to enter a number between 10 and 20 (inclusive).\n",
        "If they enter a number within this range, display the message “Thank you”, otherwise display the message “Incorrect answer”."
      ],
      "metadata": {
        "id": "-nFazrCkXuVQ"
      }
    },
    {
      "cell_type": "code",
      "execution_count": 15,
      "metadata": {
        "id": "Bt79DUV4t0iu",
        "colab": {
          "base_uri": "https://localhost:8080/"
        },
        "outputId": "d40425d5-df9f-455f-f7a7-946e1c6477cb"
      },
      "outputs": [
        {
          "output_type": "stream",
          "name": "stdout",
          "text": [
            "enter a number between 10 and 20 (inclusive): 10\n",
            "Incorrect Answer\n"
          ]
        }
      ],
      "source": [
        "number = int(input(\"enter a number between 10 and 20 (inclusive): \"))\n",
        "if 20 >= number > 10:\n",
        "  print(\"Thank you\")\n",
        "elif number > 20:\n",
        "  print(\"Incorrect Answer\")\n",
        "elif number <= 10:\n",
        "  print(\"Incorrect Answer\")"
      ]
    },
    {
      "cell_type": "code",
      "source": [
        "#2 In this exercise, you will create a program that reads a letter of the alphabet from the user. According to the answer:\n",
        "If the user enters a, e, i, o, u, then your program should display a message indicating that the entered letter is a vowel.\n",
        "\n",
        "If the user enters y, then your program should display a message indicating that y is sometimes a vowel and sometimes a consonant.\n",
        "\n",
        "Otherwise, your program should display a message indicating that the letter is a consonant.\n"
      ],
      "metadata": {
        "id": "I248eHDqX1lI"
      },
      "execution_count": null,
      "outputs": []
    },
    {
      "cell_type": "code",
      "source": [
        "letter = input(\"enter a letter of the alphabet: \")\n",
        "if letter == \"a\" or letter == \"e\" or letter == \"i\" or letter == \"o\" or letter == \"u\":\n",
        "  print(\"this is a vowel\")\n",
        "  if letter == \"y\":\n",
        "    print(\"y is sometimes a vowel and sometimes a consonant\")\n",
        "else:\n",
        "  print(\"this is a consonant\")"
      ],
      "metadata": {
        "colab": {
          "base_uri": "https://localhost:8080/"
        },
        "id": "D6WZJq1rYKRC",
        "outputId": "18c14b9a-2b23-4932-ec00-541a42adc399"
      },
      "execution_count": 18,
      "outputs": [
        {
          "output_type": "stream",
          "name": "stdout",
          "text": [
            "enter a letter of the alphabet: y\n",
            "this is a consonant\n"
          ]
        }
      ]
    }
  ]
}